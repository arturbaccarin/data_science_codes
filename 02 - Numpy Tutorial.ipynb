{
 "cells": [
  {
   "cell_type": "markdown",
   "metadata": {},
   "source": [
    "#### What is NumPy?\n",
    "\n",
    "    NumPy is a Python library used for working with arrays.\n",
    "    \n",
    "    It also has functions for working in domain of linear algebra, fourier transform, and matrices.\n",
    "    \n",
    "    NumPy stands for Numerical Python.\n",
    "    \n",
    "    \n",
    "    \n",
    "#### Why Use NumPy?\n",
    "    \n",
    "    In Python we have lists that serve the purpose of arrays, but they are slow to process.\n",
    "    \n",
    "    NumPy aims to provide an array object that is up to 50x faster than traditional Python lists.\n",
    "    \n",
    "    The array object in NumPy is called ndarray, it provides a lot of supporting \n",
    "    functions that make working with ndarray very easy.\n",
    "    \n",
    "Data Science: is a branch of computer science where we study how to store,\n",
    "use and analyze data for deriving information from it.\n",
    "\n",
    "\n",
    "\n",
    "#### Why is NumPy Faster Than Lists?\n",
    "    \n",
    "    NumPy arrays are stored at one continuous place in memory unlike lists, so processes can\n",
    "    access and manipulate them very efficiently.\n",
    "    \n",
    "    This behavior is called locality of reference in computer science.\n",
    "    \n",
    "    This is the main reason why NumPy is faster than lists. Also it is optimized to work with latest CPU architectures.\n",
    "\n",
    "\n",
    "\n",
    "#### Which Language is NumPy written in?\n",
    "\n",
    "    NumPy is a Python library and is written partially in Python, but most of\n",
    "    the parts that require fast computation are written in C or C++.\n",
    "\n"
   ]
  },
  {
   "cell_type": "code",
   "execution_count": 1,
   "metadata": {},
   "outputs": [
    {
     "ename": "NameError",
     "evalue": "name 'numpy' is not defined",
     "output_type": "error",
     "traceback": [
      "\u001b[1;31m---------------------------------------------------------------------------\u001b[0m",
      "\u001b[1;31mNameError\u001b[0m                                 Traceback (most recent call last)",
      "\u001b[1;32m<ipython-input-1-a8304664f0b9>\u001b[0m in \u001b[0;36m<module>\u001b[1;34m\u001b[0m\n\u001b[0;32m      3\u001b[0m \u001b[1;32mimport\u001b[0m \u001b[0mnumpy\u001b[0m \u001b[1;32mas\u001b[0m \u001b[0mnp\u001b[0m\u001b[1;33m\u001b[0m\u001b[1;33m\u001b[0m\u001b[0m\n\u001b[0;32m      4\u001b[0m \u001b[1;33m\u001b[0m\u001b[0m\n\u001b[1;32m----> 5\u001b[1;33m \u001b[0marr\u001b[0m \u001b[1;33m=\u001b[0m \u001b[0mnumpy\u001b[0m\u001b[1;33m.\u001b[0m\u001b[0marray\u001b[0m\u001b[1;33m(\u001b[0m\u001b[1;33m[\u001b[0m\u001b[1;36m1\u001b[0m\u001b[1;33m,\u001b[0m \u001b[1;36m2\u001b[0m\u001b[1;33m,\u001b[0m \u001b[1;36m3\u001b[0m\u001b[1;33m,\u001b[0m \u001b[1;36m4\u001b[0m\u001b[1;33m,\u001b[0m \u001b[1;36m5\u001b[0m\u001b[1;33m]\u001b[0m\u001b[1;33m)\u001b[0m\u001b[1;33m\u001b[0m\u001b[1;33m\u001b[0m\u001b[0m\n\u001b[0m\u001b[0;32m      6\u001b[0m \u001b[1;33m\u001b[0m\u001b[0m\n\u001b[0;32m      7\u001b[0m \u001b[0mprint\u001b[0m\u001b[1;33m(\u001b[0m\u001b[0marr\u001b[0m\u001b[1;33m)\u001b[0m\u001b[1;33m\u001b[0m\u001b[1;33m\u001b[0m\u001b[0m\n",
      "\u001b[1;31mNameError\u001b[0m: name 'numpy' is not defined"
     ]
    }
   ],
   "source": [
    "# Import NumPy\n",
    "\n",
    "import numpy as np\n",
    "\n",
    "arr = numpy.array([1, 2, 3, 4, 5])\n",
    "\n",
    "print(arr)\n",
    "\n",
    "# Checking NumPy Version\n",
    "print(np.__version__)"
   ]
  },
  {
   "cell_type": "code",
   "execution_count": 7,
   "metadata": {},
   "outputs": [
    {
     "name": "stdout",
     "output_type": "stream",
     "text": [
      "<class 'numpy.ndarray'>\n",
      "3\n",
      "[[[[[1 2 3 4]]]]]\n"
     ]
    }
   ],
   "source": [
    "# Creating Arrays\n",
    "\n",
    "# Create a NumPy ndarray Object\n",
    "    # The array object in NumPy is called ndarray.\n",
    "    \n",
    "    # We can create a NumPy ndarray object by using the array() function.\n",
    "import numpy as np\n",
    "\n",
    "arr = np.array([1, 2, 3, 4, 5, 6])\n",
    "\n",
    "print(type(arr))\n",
    "\n",
    "# To create an ndarray, we can pass a list, tuple or any array-like object into\n",
    "# the array() method, and it will be converted into an ndarray:\n",
    "\n",
    "# Use a tuple to create a NumPy array:\n",
    "arr = np.array((1, 2, 3, 4, 5, 6))\n",
    "\n",
    "\n",
    "\n",
    "# Dimensions in Arrays\n",
    "    # A dimension in arrays is one level of array depth (nested arrays).\n",
    "    \n",
    "# 0-D Arrays\n",
    "    # 0-D arrays, or Scalars, are the elements in an array. Each value in an array is a 0-D array.\n",
    "    \n",
    "arr = np.array(42)\n",
    "\n",
    "\n",
    "# 1-D Arrays\n",
    "    # An array that has 0-D arrays as its elements is called uni-dimensional or 1-D array.\n",
    "\n",
    "arr = np.array([1, 2, 3, 4, 5, 6])\n",
    "\n",
    "\n",
    "# 2-D Arrays\n",
    "    # An array that has 1-D arrays as its elements is called a 2-D array.\n",
    "    \n",
    "    # These are often used to represent matrix or 2nd order tensors.\n",
    "    \n",
    "    # NumPy has a whole sub module dedicated towards matrix operations called numpy.mat\n",
    "    \n",
    "arr = np.array([[1, 2, 3], [4, 5, 6]])\n",
    "\n",
    "\n",
    "# 3-D Arrays\n",
    "    # An array that has 2-D arrays (matrices) as its elements is called 3-D array.\n",
    "    \n",
    "arr = np.array([[[1, 2, 3], [4, 5, 6]], [[1, 2, 3], [4, 5, 6]]])\n",
    "\n",
    "\n",
    "# Check Number of Dimensions?\n",
    "    # NumPy Arrays provides the ndim attribute that returns an integer that tells us how many dimensions the array have.\n",
    "    \n",
    "print(arr.ndim)\n",
    "\n",
    "\n",
    "# Higher Dimensional Arrays\n",
    "    # An array can have any number of dimensions.\n",
    "    \n",
    "    # When the array is created, you can define the number of dimensions by using the ndmin argument.\n",
    "    \n",
    "arr = np.array([1, 2, 3, 4], ndmin=5)\n",
    "\n",
    "print(arr)"
   ]
  },
  {
   "cell_type": "code",
   "execution_count": 4,
   "metadata": {},
   "outputs": [
    {
     "name": "stdout",
     "output_type": "stream",
     "text": [
      "1\n",
      "7\n",
      "2\n",
      "5th element on 2nd dim:  10\n",
      "6\n",
      "Last element from 2nd dim:  10\n"
     ]
    }
   ],
   "source": [
    "# Array Indexing\n",
    "    # Array indexing is the same as accessing an array element.\n",
    "    \n",
    "    # The indexes in NumPy arrays start with 0, meaning that the first element has index 0, and the second has index 1 etc.\n",
    "    \n",
    "import numpy as np\n",
    "\n",
    "arr = np.array([1, 2, 3, 4])\n",
    "\n",
    "print(arr[0])\n",
    "\n",
    "\n",
    "# Get third and fourth elements from the following array and add them.\n",
    "print(arr[2] + arr[3])\n",
    "\n",
    "\n",
    "# Access 2-D Arrays\n",
    "    # Access the 2nd element on 1st dim:\n",
    "arr = np.array([[1,2,3,4,5], [6,7,8,9,10]])\n",
    "\n",
    "print(arr[0, 1])\n",
    "\n",
    "    # Access the 5th element on 2nd dim:\n",
    "print('5th element on 2nd dim: ', arr[1, 4])\n",
    "\n",
    "\n",
    "# Access 3-D Arrays\n",
    "arr = np.array([[[1, 2, 3], [4, 5, 6]], [[7, 8, 9], [10, 11, 12]]])\n",
    "\n",
    "    # Access the third element of the second array of the first array:\n",
    "print(arr[0, 1, 2])\n",
    "\n",
    "\n",
    "# Negative Indexing\n",
    "arr = np.array([[1,2,3,4,5], [6,7,8,9,10]])\n",
    "\n",
    "print('Last element from 2nd dim: ', arr[1, -1])"
   ]
  },
  {
   "cell_type": "code",
   "execution_count": 10,
   "metadata": {},
   "outputs": [
    {
     "name": "stdout",
     "output_type": "stream",
     "text": [
      "[2 3 4 5]\n",
      "[5 6 7]\n",
      "[1 2 3 4]\n",
      "[5 6]\n",
      "[2 4]\n",
      "[1 3 5 7]\n",
      "[7 8 9]\n",
      "[3 8]\n",
      "[[2 3 4]\n",
      " [7 8 9]]\n"
     ]
    }
   ],
   "source": [
    "# NumPy Array Slicing\n",
    "    # Slicing in python means taking elements from one given index to another given index.\n",
    "    \n",
    "    # We pass slice instead of index like this: [start:end].\n",
    "    \n",
    "    # We can also define the step, like this: [start:end:step].\n",
    "    \n",
    "# If we don't pass start its considered 0\n",
    "\n",
    "# If we don't pass end its considered length of array in that dimension\n",
    "\n",
    "# If we don't pass step its considered 1\n",
    "\n",
    "\n",
    "# Slice elements from index 1 to index 5 from the following array:\n",
    "import numpy as np\n",
    "\n",
    "arr = np.array([1, 2, 3, 4, 5, 6, 7])\n",
    "\n",
    "print(arr[1:5])\n",
    "print(arr[4:])\n",
    "print(arr[:4])\n",
    "\n",
    "\n",
    "# Negative Slicing\n",
    "print(arr[-3:-1])\n",
    "\n",
    "\n",
    "# STEP\n",
    "print(arr[1:5:2])\n",
    "\n",
    "print(arr[::2])\n",
    "\n",
    "\n",
    "# Slicing 2-D Arrays\n",
    "arr = np.array([[1, 2, 3, 4, 5], [6, 7, 8, 9, 10]])\n",
    "print(arr[1, 1:4])\n",
    "\n",
    "print(arr[0:2, 2]) # Note: The result includes the start index, but excludes the end index.\n",
    "\n",
    "print(arr[0:2, 1:4])"
   ]
  },
  {
   "cell_type": "markdown",
   "metadata": {},
   "source": [
    "NumPy Data Types\n",
    "    strings - used to represent text data, the text is given under quote marks. e.g. \"ABCD\"\n",
    "    integer - used to represent integer numbers. e.g. -1, -2, -3\n",
    "    float - used to represent real numbers. e.g. 1.2, 42.42\n",
    "    boolean - used to represent True or False.\n",
    "    complex - used to represent complex numbers. e.g. 1.0 + 2.0j, 1.5 + 2.5j\n",
    "    \n",
    "Data Types in NumPy\n",
    "    NumPy has some extra data types, and refer to data types with one character, like i for integers, u for unsigned integers etc.\n",
    "    \n",
    "Below is a list of all data types in NumPy and the characters used to represent them.\n",
    "    i - integer\n",
    "    b - boolean\n",
    "    u - unsigned integer\n",
    "    f - float\n",
    "    c - complex float\n",
    "    m - timedelta\n",
    "    M - datetime\n",
    "    O - object\n",
    "    S - string\n",
    "    U - unicode string\n",
    "    V - fixed chunk of memory for other type ( void )\n",
    "    "
   ]
  },
  {
   "cell_type": "code",
   "execution_count": 2,
   "metadata": {},
   "outputs": [
    {
     "name": "stdout",
     "output_type": "stream",
     "text": [
      "int32\n",
      "|S1\n",
      "[1 2 3]\n"
     ]
    }
   ],
   "source": [
    "# Checking the Data Type of an Array\n",
    "\n",
    "# dtype\n",
    "\n",
    "import numpy as np\n",
    "\n",
    "arr = np.array([1, 2, 3, 4, 5, 6])\n",
    "\n",
    "print(arr.dtype)\n",
    "\n",
    "\n",
    "# Creating Arrays With a Defined Data Type\n",
    "    # dtype that allows us to define the expected data type of the array elements:\n",
    "    \n",
    "arr = np.array([1, 2, 3, 4], dtype='S')\n",
    "print(arr.dtype)\n",
    "\n",
    "\n",
    "    # For i, u, f, S and U we can define size as well.\n",
    "    \n",
    "# Create an array with data type 4 bytes integer:\n",
    "        # arr = np.array([1, 2, 3, 4], dtype='i4')\n",
    "        # print(arr.dtype)\n",
    "\n",
    "\n",
    "# What if a Value Can Not Be Converted?\n",
    "    # If a type is given in which elements can't be casted then NumPy will raise a ValueError.\n",
    "    \n",
    "# arr = np.array(['a', '2', '3'], dtype='i')\n",
    "\n",
    "\n",
    "# Converting Data Type on Existing Arrays\n",
    "    # The best way to change the data type of an existing array, is to make a copy of the array with the astype() method.\n",
    "    \n",
    "    # The astype() function creates a copy of the array, and allows you to specify the data type as a parameter.\n",
    "arr = np.array([1.1, 2.1, 3.1])\n",
    "\n",
    "newarr = arr.astype('i')\n",
    "newarr = arr.astype(int)\n",
    "\n",
    "print(newarr)"
   ]
  },
  {
   "cell_type": "code",
   "execution_count": 6,
   "metadata": {},
   "outputs": [
    {
     "name": "stdout",
     "output_type": "stream",
     "text": [
      "[42  2  3  4  5]\n",
      "[1 2 3 4 5]\n",
      "[42  2  3  4  5]\n",
      "[42  2  3  4  5]\n",
      "[21  2  3  4  5]\n",
      "[21  2  3  4  5]\n",
      "None\n",
      "[1 2 3 4 5]\n"
     ]
    }
   ],
   "source": [
    "# Array Copy vs View\n",
    "\n",
    "# The Difference Between Copy and View\n",
    "    \n",
    "    # The copy is a new array, and the view is just a view of the original array.\n",
    "    \n",
    "    # The copy owns the data and any changes made to the copy will not affect original array,\n",
    "    # and any changes made to the original array will not affect the copy.\n",
    "\n",
    "    # The view does not own the data and any changes made to the view will affect the original array,\n",
    "    # and any changes made to the original array will affect the view.\n",
    "    \n",
    "\n",
    "# COPY:\n",
    "import numpy as np\n",
    "\n",
    "arr = np.array([1, 2, 3, 4, 5])\n",
    "x = arr.copy()\n",
    "\n",
    "arr[0] = 42\n",
    "\n",
    "print(arr)\n",
    "print(x)\n",
    "\n",
    "\n",
    "# VIEW:\n",
    "arr = np.array([1, 2, 3, 4, 5])\n",
    "\n",
    "x = arr.view()\n",
    "\n",
    "arr[0] = 42\n",
    "\n",
    "print(arr)\n",
    "print(x)\n",
    "\n",
    "\n",
    "# Make Changes in the VIEW:\n",
    "    # Make a view, change the view, and display both arrays:\n",
    "    \n",
    "x[0] = 21\n",
    "\n",
    "print(arr)\n",
    "print(x)\n",
    "\n",
    "\n",
    "# Check if Array Owns it's Data\n",
    "    # As mentioned above, copies owns the data, and views does not own the data, but how can we check this?\n",
    "    \n",
    "    # Every NumPy array has the attribute base that returns None if the array owns the data.\n",
    "\n",
    "    # Otherwise, the base  attribute refers to the original object.\n",
    "    \n",
    "arr = np.array([1, 2, 3, 4, 5])\n",
    "\n",
    "x = arr.copy()\n",
    "y = arr.view()\n",
    "\n",
    "print(x.base)\n",
    "print(y.base)"
   ]
  },
  {
   "cell_type": "code",
   "execution_count": 8,
   "metadata": {},
   "outputs": [
    {
     "name": "stdout",
     "output_type": "stream",
     "text": [
      "(2, 4)\n"
     ]
    }
   ],
   "source": [
    "# NumPy Array Shape\n",
    "    # The shape of an array is the number of elements in each dimension.\n",
    "    \n",
    "# Get the Shape of an Array\n",
    "    # NumPy arrays have an attribute called shape that returns a tuple with\n",
    "    # each index having the number of corresponding elements.\n",
    "\n",
    "import numpy as np\n",
    "\n",
    "arr = np.array([[1, 2, 3 , 4], [5, 6, 7, 8]])\n",
    "\n",
    "print(arr.shape)\n",
    "\n",
    "    # The example above returns (2, 4), which means that the array has 2 dimensions, and each dimension has 4 elements.\n",
    "\n"
   ]
  },
  {
   "cell_type": "code",
   "execution_count": 5,
   "metadata": {},
   "outputs": [
    {
     "name": "stdout",
     "output_type": "stream",
     "text": [
      "(4, 3)\n",
      "[[ 1  2  3]\n",
      " [ 4  5  6]\n",
      " [ 7  8  9]\n",
      " [10 11 12]]\n",
      "(2, 3, 2)\n",
      "[[[ 1  2]\n",
      "  [ 3  4]\n",
      "  [ 5  6]]\n",
      "\n",
      " [[ 7  8]\n",
      "  [ 9 10]\n",
      "  [11 12]]]\n",
      "[1 2 3 4 5 6 7 8]\n",
      "[[[1 2]\n",
      "  [3 4]]\n",
      "\n",
      " [[5 6]\n",
      "  [7 8]]]\n",
      "[1 2 3 4 5 6]\n"
     ]
    }
   ],
   "source": [
    "# Array Reshaping\n",
    "\n",
    "    # Reshaping means changing the shape of an array.\n",
    "\n",
    "    # The shape of an array is the number of elements in each dimension.\n",
    "\n",
    "    # By reshaping we can add or remove dimensions or change number of elements in each dimension.\n",
    "    \n",
    "# Reshape From 1-D to 2-D\n",
    "import numpy as np\n",
    "\n",
    "arr = np.array([1, 2, 3, 4, 5, 6, 7, 8, 9, 10, 11, 12])\n",
    "\n",
    "newarr = arr.reshape(4, 3)\n",
    "\n",
    "print(newarr.shape)\n",
    "print(newarr)\n",
    "\n",
    "\n",
    "# Reshape From 1-D to 3-D\n",
    "newarr = arr.reshape(2, 3, 2)\n",
    "\n",
    "print(newarr.shape)\n",
    "print(newarr)\n",
    "\n",
    "\n",
    "# Can We Reshape Into any Shape?\n",
    "    # Yes, as long as the elements required for reshaping are equal in both shapes.\n",
    "\n",
    "    # We can reshape an 8 elements 1D array into 4 elements in 2 rows 2D\n",
    "    # array but we cannot reshape it into a 3 elements 3 rows 2D array as that would require 3x3 = 9 elements.\n",
    "    \n",
    "\n",
    "# Returns Copy or View?\n",
    "arr = np.array([1, 2, 3, 4, 5, 6, 7, 8])\n",
    "\n",
    "print(arr.reshape(2, 4).base)\n",
    "    # The example above returns the original array, so it is a view.\n",
    "\n",
    "\n",
    "# Unknown Dimension\n",
    "    # You are allowed to have one \"unknown\" dimension.\n",
    "\n",
    "    # Meaning that you do not have to specify an exact number for one of the dimensions in the reshape method.\n",
    "\n",
    "    # Pass -1 as the value, and NumPy will calculate this number for you.\n",
    "\n",
    "arr = np.array([1, 2, 3, 4, 5, 6, 7, 8])\n",
    "\n",
    "newarr = arr.reshape(2, 2, -1)\n",
    "\n",
    "print(newarr)\n",
    "\n",
    "\n",
    "# Flattening the arrays\n",
    "    # Flattening array means converting a multidimensional array into a 1D array.\n",
    "    \n",
    "    # We can use reshape(-1) to do this.\n",
    "    \n",
    "arr = np.array([[1, 2, 3], [4, 5, 6]])\n",
    "\n",
    "newarr = arr.reshape(-1)\n",
    "\n",
    "print(newarr)\n",
    "\n",
    "\n",
    "# Note: There are a lot of functions for changing the shapes of arrays in numpy flatten,\n",
    "# ravel and also for rearranging the elements rot90, flip, fliplr, flipud etc.\n",
    "# These fall under Intermediate to Advanced section of numpy."
   ]
  },
  {
   "cell_type": "code",
   "execution_count": 16,
   "metadata": {
    "scrolled": true
   },
   "outputs": [
    {
     "name": "stdout",
     "output_type": "stream",
     "text": [
      "1\n",
      "2\n",
      "3\n",
      "4\n",
      "5\n",
      "\n",
      "\n",
      "[1 2 3]\n",
      "[4 5 6]\n",
      "\n",
      "\n",
      "1\n",
      "2\n",
      "3\n",
      "4\n",
      "5\n",
      "6\n",
      "\n",
      "\n",
      "1\n",
      "2\n",
      "3\n",
      "4\n",
      "5\n",
      "6\n",
      "7\n",
      "8\n",
      "\n",
      "\n",
      "b'1'\n",
      "b'2'\n",
      "b'3'\n",
      "\n",
      "\n",
      "1\n",
      "3\n",
      "5\n",
      "7\n",
      "\n",
      "\n",
      "(0, 0) 1\n",
      "(0, 1) 2\n",
      "(0, 2) 3\n",
      "(0, 3) 4\n",
      "(1, 0) 5\n",
      "(1, 1) 6\n",
      "(1, 2) 7\n",
      "(1, 3) 8\n"
     ]
    }
   ],
   "source": [
    "# NumPy Array Iterating\n",
    "    # Iterating means going through elements one by one.\n",
    "    \n",
    "    # As we deal with multi-dimensional arrays in numpy, we can do this using basic for loop of python.\n",
    "    \n",
    "# If we iterate on a 1-D array it will go through each element one by one.\n",
    "import numpy as np\n",
    "\n",
    "arr = np.array([1, 2, 3, 4, 5])\n",
    "\n",
    "for x in arr:\n",
    "    print(x)\n",
    "    \n",
    "\n",
    "# Iterating 2-D Arrays\n",
    "arr = np.array([[1, 2, 3], [4, 5, 6]])\n",
    "print('\\n')\n",
    "for x in arr:\n",
    "    print(x)\n",
    "    \n",
    "    \n",
    "print('\\n')\n",
    "# To return the actual values, the scalars, we have to iterate the arrays in each dimension.\n",
    "arr = np.array([[1, 2, 3], [4, 5, 6]])\n",
    "\n",
    "for x in arr:\n",
    "    for y in x:\n",
    "        print(y)\n",
    "        \n",
    "        \n",
    "# Iterating Arrays Using nditer()\n",
    "    # The function nditer() is a helping function that can be used from very basic to very advanced iterations.\n",
    "    # It solves some basic issues which we face in iteration, lets go through it with examples.\n",
    "    \n",
    "# Iterating on Each Scalar Element\n",
    "    # In basic for loops, iterating through each scalar of an array we need to use\n",
    "    # n for loops which can be difficult to write for arrays with very high dimensionality.\n",
    "print('\\n')    \n",
    "arr = np.array([[[1, 2], [3, 4]], [[5, 6], [7, 8]]])\n",
    "\n",
    "for x in np.nditer(arr):\n",
    "    print(x)\n",
    "    \n",
    "\n",
    "# Iterating Array With Different Data Types\n",
    "    # We can use op_dtypes argument and pass it the expected datatype to change the datatype of elements while iterating.\n",
    "    \n",
    "    # NumPy does not change the data type of the element in-place (where the element is in array) so it needs some other space to perform this action, that extra space is called buffer, \n",
    "    # and in order to enable it in nditer() we pass flags=['buffered'].\n",
    "\n",
    "print('\\n')    \n",
    "arr = np.array([1, 2, 3])\n",
    "\n",
    "for x in np.nditer(arr, flags=['buffered'], op_dtypes=['S']):\n",
    "    print(x)\n",
    "    \n",
    "\n",
    "# Iterating With Different Step Size\n",
    "    # We can use filtering and followed by iteration.\n",
    "    \n",
    "    # Iterate through every scalar element of the 2D array skipping 1 element:\n",
    "print('\\n') \n",
    "arr = np.array([[1, 2, 3, 4], [5, 6, 7, 8]])\n",
    "\n",
    "for x in np.nditer(arr[:, ::2]):\n",
    "    print(x)\n",
    "    \n",
    "    \n",
    "# Enumerated Iteration Using ndenumerate()\n",
    "    # Enumeration means mentioning sequence number of somethings one by one.\n",
    "    \n",
    "    # Sometimes we require corresponding index of the element while iterating,\n",
    "    # the ndenumerate() method can be used for those usecases.\n",
    "print('\\n')\n",
    "\n",
    "arr = np.array([[1, 2, 3, 4], [5, 6, 7, 8]])\n",
    "\n",
    "for idx, x in np.ndenumerate(arr):\n",
    "    print(idx, x)"
   ]
  },
  {
   "cell_type": "code",
   "execution_count": 26,
   "metadata": {
    "collapsed": true
   },
   "outputs": [
    {
     "name": "stdout",
     "output_type": "stream",
     "text": [
      "[1 2 3 4 5 6]\n",
      "\n",
      "\n",
      "[[1 2]\n",
      " [3 4]\n",
      " [5 6]\n",
      " [7 8]]\n",
      "\n",
      "\n",
      "[[1 4]\n",
      " [2 5]\n",
      " [3 6]]\n",
      "\n",
      "\n",
      "[1 2 3 4 5 6]\n",
      "\n",
      "\n",
      "[[1 2 3]\n",
      " [4 5 6]]\n",
      "\n",
      "\n",
      "[[[1 4]\n",
      "  [2 5]\n",
      "  [3 6]]]\n"
     ]
    }
   ],
   "source": [
    "# NumPy Joining Array\n",
    "\n",
    "    # Joining means putting contents of two or more arrays in a single array.\n",
    "    \n",
    "    # In SQL we join tables based on a key, whereas in NumPy we join arrays by axes.\n",
    "    \n",
    "    # concatenate() function\n",
    "\n",
    "import numpy as np\n",
    "\n",
    "arr1 = np.array([1, 2, 3])\n",
    "arr2 = np.array([4, 5, 6])\n",
    "\n",
    "arr = np.concatenate((arr1, arr2))\n",
    "\n",
    "print(arr)\n",
    "\n",
    "\n",
    "# Join two 2-D arrays along rows (axis=1):\n",
    "print('\\n')\n",
    "\n",
    "arr1 = np.array([[1, 2], [3, 4]])\n",
    "\n",
    "arr2 = np.array([[5, 6], [7, 8]])\n",
    "\n",
    "arr = np.concatenate((arr1, arr2), axis = 0)\n",
    "\n",
    "print(arr)\n",
    "\n",
    "\n",
    "# Joining Arrays Using Stack Functions\n",
    "    # Stacking is same as concatenation, the only difference is that stacking is done along a new axis.\n",
    "    \n",
    "    # We can concatenate two 1-D arrays along the second axis which would result in\n",
    "    # putting them one over the other, ie. stacking.\n",
    "    \n",
    "    # We pass a sequence of arrays that we want to join to the stack() method along with the axis.\n",
    "    # If axis is not explicitly passed it is taken as 0.\n",
    "    \n",
    "print('\\n')\n",
    "\n",
    "arr1 = np.array([1, 2, 3])\n",
    "\n",
    "arr2 = np.array([4, 5, 6])\n",
    "\n",
    "arr = np.stack((arr1, arr2), axis = 1)\n",
    "print(arr)\n",
    "\n",
    "\n",
    "print('\\n')\n",
    "# Stacking Along Rows\n",
    "    # NumPy provides a helper function: hstack() to stack along rows.\n",
    "\n",
    "arr = np.hstack((arr1, arr2))\n",
    "print(arr)    \n",
    "\n",
    "\n",
    "print('\\n')\n",
    "# Stacking Along Columns\n",
    "    # NumPy provides a helper function: vstack()  to stack along columns.\n",
    "arr = np.vstack((arr1, arr2))\n",
    "\n",
    "print(arr)\n",
    "\n",
    "\n",
    "print('\\n')\n",
    "# Stacking Along Height (depth)\n",
    "    # NumPy provides a helper function: dstack() to stack along height, which is the same as depth.\n",
    "arr = np.dstack((arr1, arr2))\n",
    "print(arr)\n",
    "\n"
   ]
  },
  {
   "cell_type": "code",
   "execution_count": 33,
   "metadata": {
    "collapsed": true
   },
   "outputs": [
    {
     "name": "stdout",
     "output_type": "stream",
     "text": [
      "[array([1, 2]), array([3, 4]), array([5, 6])]\n",
      "\n",
      "\n",
      "[array([1, 2]), array([3, 4]), array([5]), array([6])]\n",
      "\n",
      "\n",
      "[1 2]\n",
      "[3 4]\n",
      "[5 6]\n",
      "\n",
      "\n",
      "[array([[1, 2],\n",
      "       [3, 4]]), array([[5, 6],\n",
      "       [7, 8]]), array([[ 9, 10],\n",
      "       [11, 12]])]\n",
      "\n",
      "\n",
      "[array([[ 1],\n",
      "       [ 4],\n",
      "       [ 7],\n",
      "       [10],\n",
      "       [13],\n",
      "       [16]]), array([[ 2],\n",
      "       [ 5],\n",
      "       [ 8],\n",
      "       [11],\n",
      "       [14],\n",
      "       [17]]), array([[ 3],\n",
      "       [ 6],\n",
      "       [ 9],\n",
      "       [12],\n",
      "       [15],\n",
      "       [18]])]\n",
      "\n",
      "\n",
      "[array([[ 1],\n",
      "       [ 4],\n",
      "       [ 7],\n",
      "       [10],\n",
      "       [13],\n",
      "       [16]]), array([[ 2],\n",
      "       [ 5],\n",
      "       [ 8],\n",
      "       [11],\n",
      "       [14],\n",
      "       [17]]), array([[ 3],\n",
      "       [ 6],\n",
      "       [ 9],\n",
      "       [12],\n",
      "       [15],\n",
      "       [18]])]\n"
     ]
    }
   ],
   "source": [
    "# NumPy Splitting Array\n",
    "    # Splitting is reverse operation of Joining.\n",
    "    \n",
    "    # Joining merges multiple arrays into one and Splitting breaks one array into multiple.\n",
    "\n",
    "    # We use array_split() for splitting arrays, we pass it the array we want to split and the number of splits.\n",
    "    \n",
    "arr = np.array([1, 2, 3, 4, 5, 6])\n",
    "\n",
    "newarr = np.array_split(arr, 3)\n",
    "\n",
    "print(newarr)   # Note: The return value is an array containing three arrays.\n",
    "\n",
    "\n",
    "\n",
    "print('\\n')\n",
    "# If the array has less elements than required, it will adjust from the end accordingly.\n",
    "newarr = np.array_split(arr, 4)\n",
    "\n",
    "print(newarr)\n",
    "\n",
    "\n",
    "    # Note: We also have the method split() available but it will not adjust the elements when elements\n",
    "    # are less in source array for splitting like in example above, array_split() worked properly but split() would fail.\n",
    "    \n",
    "\n",
    "print('\\n')\n",
    "# Split Into Arrays\n",
    "newarr = np.array_split(arr, 3)\n",
    "\n",
    "print(newarr[0])\n",
    "print(newarr[1])\n",
    "print(newarr[2])\n",
    "\n",
    "\n",
    "print('\\n')\n",
    "# Splitting 2-D Arrays\n",
    "    # The example above returns three 2-D arrays.\n",
    "    \n",
    "arr = np.array([[1, 2], [3, 4], [5, 6], [7, 8], [9, 10], [11, 12]])\n",
    "\n",
    "newarr = np.array_split(arr, 3)\n",
    "\n",
    "print(newarr)\n",
    "\n",
    "    # In addition, you can specify which axis you want to do the split around.\n",
    "\n",
    "    # The example below also returns three 2-D arrays, but they are split along the row (axis=1).\n",
    "print('\\n')    \n",
    "arr = np.array([[1, 2, 3], [4, 5, 6], [7, 8, 9], [10, 11, 12], [13, 14, 15], [16, 17, 18]])\n",
    "\n",
    "newarr = np.array_split(arr, 3, axis=1)\n",
    "\n",
    "print(newarr)\n",
    "\n",
    "\n",
    "print('\\n')\n",
    "# An alternate solution is using hsplit() opposite of hstack()\n",
    "newarr = np.hsplit(arr, 3)\n",
    "\n",
    "print(newarr)\n",
    "\n",
    "# Note: Similar alternates to vstack() and dstack() are available as vsplit() and dsplit()."
   ]
  },
  {
   "cell_type": "code",
   "execution_count": 49,
   "metadata": {
    "collapsed": true
   },
   "outputs": [
    {
     "name": "stdout",
     "output_type": "stream",
     "text": [
      "(array([3, 5, 6], dtype=int64),)\n",
      "\n",
      "\n",
      "(array([1, 3, 5, 7], dtype=int64),)\n",
      "\n",
      "\n",
      "1\n",
      "\n",
      "\n",
      "2\n",
      "\n",
      "\n",
      "[1 2 3]\n"
     ]
    }
   ],
   "source": [
    "# NumPy Searching Arrays\n",
    "    # You can search an array for a certain value, and return the indexes that get a match.\n",
    "    \n",
    "    # To search an array, use the where() method.\n",
    "    \n",
    "import numpy as np\n",
    "\n",
    "arr = np.array([1, 2, 3, 4, 5, 4, 4])\n",
    "\n",
    "x = np.where(arr == 4)\n",
    "\n",
    "print(x)   # Which means that the value 4 is present at index 3, 5, and 6.\n",
    "\n",
    "\n",
    "print('\\n')\n",
    "# Find the indexes where the values are even:\n",
    "arr = np.array([1, 2, 3, 4, 5, 6, 7, 8])\n",
    "\n",
    "x = np.where(arr%2 == 0)\n",
    "\n",
    "print(x)\n",
    "\n",
    "\n",
    "print('\\n')\n",
    "# Search Sorted\n",
    "    # There is a method called searchsorted() which performs a binary search in the array, and returns the\n",
    "    # index where the specified value would be inserted to maintain the search order.\n",
    "    \n",
    "    # The searchsorted() method is assumed to be used on sorted arrays.\n",
    "    \n",
    "arr = np.array([6, 7, 8, 9])\n",
    "\n",
    "x = np.searchsorted(arr, 7)\n",
    "\n",
    "print(x)\n",
    "\n",
    "# Example explained: The number 7 should be inserted on index 1 to remain the sort order.\n",
    "\n",
    "# The method starts the search from the left and returns the first index where the number 7 is no\n",
    "# longer larger than the next value.\n",
    "\n",
    "\n",
    "print('\\n')\n",
    "# Search From the Right Side\n",
    "    # By default the left most index is returned, but we can give side='right' to return the right most index instead.\n",
    "\n",
    "    # Find the indexes where the value 7 should be inserted, starting from the right:\n",
    "x = np.searchsorted(arr, 7, side='right')\n",
    "\n",
    "print(x)\n",
    "\n",
    "\n",
    "print('\\n')\n",
    "# Multiple Values\n",
    "arr = np.array([1, 3, 5, 7])\n",
    "\n",
    "x = np.searchsorted(arr, [2, 4, 6])\n",
    "\n",
    "print(x)\n",
    "    \n",
    "    # The return value is an array: [1 2 3] containing the three indexes where 2, 4, 6 would be\n",
    "    # inserted in the original array to maintain the order.\n"
   ]
  },
  {
   "cell_type": "code",
   "execution_count": 52,
   "metadata": {
    "collapsed": true
   },
   "outputs": [
    {
     "name": "stdout",
     "output_type": "stream",
     "text": [
      "[0 1 2 3]\n",
      "\n",
      "\n",
      "[False  True  True]\n",
      "\n",
      "\n",
      "[[2 3 4]\n",
      " [0 1 5]]\n"
     ]
    }
   ],
   "source": [
    "# NumPy Sorting Arrays\n",
    "\n",
    "    # The NumPy ndarray object has a function called sort(), that will sort a specified array.\n",
    "import numpy as np\n",
    "\n",
    "arr = np.array([3, 2, 0, 1]) # Note: This method returns a copy of the array, leaving the original array unchanged.\n",
    "\n",
    "print(np.sort(arr))\n",
    "\n",
    "\n",
    "print('\\n')\n",
    "# Sort a boolean array:\n",
    "arr = np.array([True, False, True])\n",
    "\n",
    "print(np.sort(arr))\n",
    "\n",
    "\n",
    "print('\\n')\n",
    "# Sorting a 2-D Array\n",
    "    # If you use the sort() method on a 2-D array, both arrays will be sorted:\n",
    "arr = np.array([[3, 2, 4], [5, 0, 1]])\n",
    "\n",
    "print(np.sort(arr))\n",
    "\n"
   ]
  },
  {
   "cell_type": "code",
   "execution_count": 57,
   "metadata": {
    "collapsed": true
   },
   "outputs": [
    {
     "name": "stdout",
     "output_type": "stream",
     "text": [
      "[41 44]\n",
      "\n",
      "\n",
      "[43 44]\n",
      "\n",
      "\n",
      "[False False  True  True]\n",
      "[43 44]\n"
     ]
    }
   ],
   "source": [
    "# NumPy Filter Array\n",
    "    # Getting some elements out of an existing array and creating a new array out of them is called filtering.\n",
    "    \n",
    "    # In NumPy, you filter an array using a boolean index list.\n",
    "    \n",
    "    # If the value at an index is True that element is contained in the filtered array, if the value at that index\n",
    "    # is False that element is excluded from the filtered array.\n",
    "    \n",
    "import numpy as np\n",
    "\n",
    "arr = np.array([41, 42, 43, 44])\n",
    "\n",
    "x = [True, False, False, True]\n",
    "\n",
    "newarr = arr[x]\n",
    "\n",
    "print(newarr)\n",
    "\n",
    "\n",
    "print('\\n')\n",
    "# Creating the Filter Array\n",
    "\n",
    "    #Create an empty list\n",
    "filter_arr = []\n",
    "\n",
    "    # go through each element in arr\n",
    "for element in arr:\n",
    "    if element > 42:\n",
    "        filter_arr.append(True)\n",
    "    else:\n",
    "        filter_arr.append(False)\n",
    "        \n",
    "newarr = arr[filter_arr]\n",
    "print(newarr)\n",
    "\n",
    "\n",
    "print('\\n')\n",
    "# Creating Filter Directly From Array\n",
    "    # The above example is quite a common task in NumPy and NumPy provides a nice way to tackle it.\n",
    "    \n",
    "    # We can directly substitute the array instead of the iterable variable in our condition and it\n",
    "    # will work just as we expect it to.\n",
    "filter_arr = arr > 42\n",
    "\n",
    "newarr = arr[filter_arr]\n",
    "\n",
    "print(filter_arr)\n",
    "print(newarr)\n",
    "\n"
   ]
  },
  {
   "cell_type": "markdown",
   "metadata": {},
   "source": [
    "## Random Numbers in NumPy\n",
    "\n",
    "#### What is a Random Number?\n",
    "    Random number does NOT mean a different number every time. Random means something that can not be predicted logically.\n",
    "    \n",
    "#### Pseudo Random and True Random.\n",
    "    Computers work on programs, and programs are definitive set of instructions. So it means there must be some algorithm to generate a random number as well.\n",
    "    \n",
    "    If there is a program to generate random number it can be predicted, thus it is not truly random.\n",
    "    \n",
    "    Random numbers generated through a generation algorithm are called pseudo random.\n",
    "    \n",
    "##### Can we make truly random numbers?\n",
    "    Yes. In order to generate a truly random number on our computers we need to get the random data from some outside source. This outside source is generally our keystrokes, mouse movements, data on network etc.\n",
    "    \n",
    "    We do not need truly random numbers, unless its related to security (e.g. encryption keys) or the basis of application is the randomness (e.g. Digital roulette wheels).\n",
    "    \n",
    "    "
   ]
  },
  {
   "cell_type": "code",
   "execution_count": 10,
   "metadata": {},
   "outputs": [
    {
     "name": "stdout",
     "output_type": "stream",
     "text": [
      "92\n",
      "\n",
      "\n",
      "0.2947783961513075\n",
      "\n",
      "\n",
      "[ 9 43 73 75 24]\n",
      "\n",
      "\n",
      "[[89 93 81 44 14]\n",
      " [87  5 53 66 81]\n",
      " [35 92  2 18 97]]\n",
      "\n",
      "\n",
      "[0.39059644 0.16825047 0.87813996 0.29425906 0.50817722]\n",
      "[[0.68306178 0.72769121 0.79182759 0.74170848 0.09522435]\n",
      " [0.51112818 0.77769067 0.51726765 0.23843836 0.66374959]]\n",
      "\n",
      "\n",
      "8\n",
      "[[9 7 7 5 9]\n",
      " [3 9 9 7 7]\n",
      " [7 5 5 5 9]]\n"
     ]
    }
   ],
   "source": [
    "# Generate Random Number\n",
    "from numpy import random\n",
    "\n",
    "x = random.randint(100) # Generate a random integer from 0 to 100:\n",
    "\n",
    "print(x)\n",
    "\n",
    "\n",
    "print('\\n')\n",
    "# Generate Random Float\n",
    "    # The random module's rand() method returns a random float between 0 and 1.\n",
    "x = random.rand()\n",
    "\n",
    "print(x)\n",
    "\n",
    "\n",
    "print('\\n')\n",
    "# Generate Random Array\n",
    "    # In NumPy we work with arrays, and you can use the two methods from the above examples to make random arrays.\n",
    "    \n",
    "    # Integers\n",
    "    # The randint() method takes a size parameter where you can specify the shape of an array.\n",
    "x = random.randint(100, size=5)\n",
    "print(x)\n",
    "\n",
    "\n",
    "print('\\n')\n",
    "# Generate a 2-D array with 3 rows, each row containing 5 random integers from 0 to 100:\n",
    "x = random.randint(100, size = (3, 5))\n",
    "print(x)\n",
    "\n",
    "\n",
    "print('\\n')\n",
    "    # Float\n",
    "    # The rand() method also allows you to specify the shape of the array.\n",
    "x = random.rand(5)\n",
    "\n",
    "print(x)\n",
    "\n",
    "x = random.rand(2, 5)\n",
    "print(x)\n",
    "\n",
    "\n",
    "print('\\n')\n",
    "# Generate Random Number From Array\n",
    "    # The choice() method takes an array as a parameter and randomly returns one of the values.\n",
    "    \n",
    "x = random.choice([3, 5, 6, 8, 11])\n",
    "print(x)\n",
    "\n",
    "    # The choice() method also allows you to return an array of values. \n",
    "    # Add a size parameter to specify the shape of the array.\n",
    "    \n",
    "x = random.choice([3, 5, 7, 9], size=(3, 5))\n",
    "print(x)\n",
    "\n"
   ]
  },
  {
   "cell_type": "markdown",
   "metadata": {},
   "source": [
    "### Random Data Distribution\n",
    "\n",
    "#### What is Data Distribution?\n",
    "    Data Distribution is a list of all possible values, and how often each value occurs.\n",
    "    \n",
    "    Such lists are important when working with statistics and data science.\n",
    "    \n",
    "    The random module offer methods that returns randomly generated data distributions.\n",
    "    \n",
    "#### Random Distribution\n",
    "    A random distribution is a set of random numbers that follow a certain probability density function.\n",
    "    \n",
    "Probability Density Function: A function that describes a continuous probability. i.e. probability of all values in an array.\n",
    "\n",
    "    We can generate random numbers based on defined probabilities using the choice() method of the random module.\n",
    "    \n",
    "    The choice() method allows us to specify the probability for each value.\n",
    "    \n",
    "    The probability is set by a number between 0 and 1, where 0 means that the value will never occur and 1 means that the value will always occur.\n",
    "    \n",
    "    "
   ]
  },
  {
   "cell_type": "code",
   "execution_count": 12,
   "metadata": {},
   "outputs": [
    {
     "name": "stdout",
     "output_type": "stream",
     "text": [
      "[5 3 7 7 7 7 7 7 7 5 7 7 7 5 5 5 5 7 5 5 7 7 7 7 7 7 7 5 7 7 7 7 7 3 7 7 7\n",
      " 7 7 5 7 7 5 3 7 3 7 5 7 5 7 7 5 7 7 5 7 7 5 7 5 7 7 7 7 7 7 7 3 7 3 5 7 7\n",
      " 3 5 7 7 7 3 5 5 5 7 5 5 3 5 3 7 5 5 5 3 7 7 7 7 7 5]\n"
     ]
    }
   ],
   "source": [
    "# Generate a 1-D array containing 100 values, where each value has to be 3, 5, 7 or 9.\n",
    "\n",
    "# The probability for the value to be 3 is set to be 0.1\n",
    "\n",
    "# The probability for the value to be 5 is set to be 0.3\n",
    "\n",
    "# The probability for the value to be 7 is set to be 0.6\n",
    "\n",
    "# The probability for the value to be 9 is set to be 0\n",
    "\n",
    "from numpy import random\n",
    "\n",
    "x = random.choice([3, 5, 7, 9], p = [0.1, 0.3, 0.6, 0.0], size =(100))\n",
    "\n",
    "print(x)"
   ]
  },
  {
   "cell_type": "code",
   "execution_count": 15,
   "metadata": {},
   "outputs": [
    {
     "name": "stdout",
     "output_type": "stream",
     "text": [
      "[3 5 2 6 4 1]\n",
      "\n",
      "\n",
      "[6 4 2 1 5 3]\n"
     ]
    }
   ],
   "source": [
    "# Random Permutations\n",
    "\n",
    "# Random Permutations of Elements\n",
    "    # A permutation refers to an arrangement of elements. e.g. [3, 2, 1] is a permutation of [1, 2, 3] and vice-versa.\n",
    "    \n",
    "    # The NumPy Random module provides two methods for this: shuffle() and permutation().\n",
    "    \n",
    "# Shuffling Arrays\n",
    "    # Shuffle means changing arrangement of elements in-place. i.e. in the array itself.\n",
    "    \n",
    "from numpy import random\n",
    "import numpy as np\n",
    "\n",
    "arr = np.array([1, 2, 3, 4, 5, 6])\n",
    "\n",
    "random.shuffle(arr)   # The shuffle() method makes changes to the original array.\n",
    "\n",
    "print(arr)\n",
    "\n",
    "\n",
    "print('\\n')\n",
    "# Generating Permutation of Arrays\n",
    "arr = np.array([1, 2, 3, 4, 5, 6])\n",
    "\n",
    "print(random.permutation(arr))\n"
   ]
  },
  {
   "cell_type": "code",
   "execution_count": 8,
   "metadata": {
    "collapsed": true
   },
   "outputs": [
    {
     "name": "stderr",
     "output_type": "stream",
     "text": [
      "C:\\Users\\Artur\\anaconda3\\lib\\site-packages\\seaborn\\distributions.py:2551: FutureWarning: `distplot` is a deprecated function and will be removed in a future version. Please adapt your code to use either `displot` (a figure-level function with similar flexibility) or `histplot` (an axes-level function for histograms).\n",
      "  warnings.warn(msg, FutureWarning)\n"
     ]
    },
    {
     "data": {
      "image/png": "[encoded data removed]",
      "text/plain": [
       "<Figure size 432x288 with 1 Axes>"
      ]
     },
     "metadata": {
      "needs_background": "light"
     },
     "output_type": "display_data"
    },
    {
     "ename": "AttributeError",
     "evalue": "'Rectangle' object has no property 'hist'",
     "output_type": "error",
     "traceback": [
      "\u001b[1;31m---------------------------------------------------------------------------\u001b[0m",
      "\u001b[1;31mAttributeError\u001b[0m                            Traceback (most recent call last)",
      "\u001b[1;32m<ipython-input-8-a85fac6adc6b>\u001b[0m in \u001b[0;36m<module>\u001b[1;34m\u001b[0m\n\u001b[0;32m     17\u001b[0m \u001b[0mplt\u001b[0m\u001b[1;33m.\u001b[0m\u001b[0mshow\u001b[0m\u001b[1;33m(\u001b[0m\u001b[1;33m)\u001b[0m\u001b[1;33m\u001b[0m\u001b[1;33m\u001b[0m\u001b[0m\n\u001b[0;32m     18\u001b[0m \u001b[1;33m\u001b[0m\u001b[0m\n\u001b[1;32m---> 19\u001b[1;33m \u001b[0msns\u001b[0m\u001b[1;33m.\u001b[0m\u001b[0mdisplot\u001b[0m\u001b[1;33m(\u001b[0m\u001b[1;33m[\u001b[0m\u001b[1;36m0\u001b[0m\u001b[1;33m,\u001b[0m \u001b[1;36m1\u001b[0m\u001b[1;33m,\u001b[0m \u001b[1;36m2\u001b[0m\u001b[1;33m,\u001b[0m \u001b[1;36m3\u001b[0m\u001b[1;33m,\u001b[0m \u001b[1;36m4\u001b[0m\u001b[1;33m,\u001b[0m \u001b[1;36m5\u001b[0m\u001b[1;33m,\u001b[0m \u001b[1;36m6\u001b[0m\u001b[1;33m]\u001b[0m\u001b[1;33m,\u001b[0m \u001b[0mhist\u001b[0m\u001b[1;33m=\u001b[0m\u001b[1;32mFalse\u001b[0m\u001b[1;33m)\u001b[0m\u001b[1;33m\u001b[0m\u001b[1;33m\u001b[0m\u001b[0m\n\u001b[0m\u001b[0;32m     20\u001b[0m \u001b[0mplt\u001b[0m\u001b[1;33m.\u001b[0m\u001b[0mshow\u001b[0m\u001b[1;33m(\u001b[0m\u001b[1;33m)\u001b[0m\u001b[1;33m\u001b[0m\u001b[1;33m\u001b[0m\u001b[0m\n",
      "\u001b[1;32m~\\anaconda3\\lib\\site-packages\\seaborn\\distributions.py\u001b[0m in \u001b[0;36mdisplot\u001b[1;34m(data, x, y, hue, row, col, weights, kind, rug, rug_kws, log_scale, legend, palette, hue_order, hue_norm, color, col_wrap, row_order, col_order, height, aspect, facet_kws, **kwargs)\u001b[0m\n\u001b[0;32m   2222\u001b[0m \u001b[1;33m\u001b[0m\u001b[0m\n\u001b[0;32m   2223\u001b[0m             \u001b[0m_assign_default_kwargs\u001b[0m\u001b[1;33m(\u001b[0m\u001b[0mhist_kws\u001b[0m\u001b[1;33m,\u001b[0m \u001b[0mp\u001b[0m\u001b[1;33m.\u001b[0m\u001b[0mplot_univariate_histogram\u001b[0m\u001b[1;33m,\u001b[0m \u001b[0mhistplot\u001b[0m\u001b[1;33m)\u001b[0m\u001b[1;33m\u001b[0m\u001b[1;33m\u001b[0m\u001b[0m\n\u001b[1;32m-> 2224\u001b[1;33m             \u001b[0mp\u001b[0m\u001b[1;33m.\u001b[0m\u001b[0mplot_univariate_histogram\u001b[0m\u001b[1;33m(\u001b[0m\u001b[1;33m**\u001b[0m\u001b[0mhist_kws\u001b[0m\u001b[1;33m)\u001b[0m\u001b[1;33m\u001b[0m\u001b[1;33m\u001b[0m\u001b[0m\n\u001b[0m\u001b[0;32m   2225\u001b[0m \u001b[1;33m\u001b[0m\u001b[0m\n\u001b[0;32m   2226\u001b[0m         \u001b[1;32melse\u001b[0m\u001b[1;33m:\u001b[0m\u001b[1;33m\u001b[0m\u001b[1;33m\u001b[0m\u001b[0m\n",
      "\u001b[1;32m~\\anaconda3\\lib\\site-packages\\seaborn\\distributions.py\u001b[0m in \u001b[0;36mplot_univariate_histogram\u001b[1;34m(self, multiple, element, fill, common_norm, common_bins, shrink, kde, kde_kws, color, legend, line_kws, estimate_kws, **plot_kws)\u001b[0m\n\u001b[0;32m    552\u001b[0m                 \u001b[0mplot_func\u001b[0m \u001b[1;33m=\u001b[0m \u001b[0max\u001b[0m\u001b[1;33m.\u001b[0m\u001b[0mbar\u001b[0m \u001b[1;32mif\u001b[0m \u001b[0mself\u001b[0m\u001b[1;33m.\u001b[0m\u001b[0mdata_variable\u001b[0m \u001b[1;33m==\u001b[0m \u001b[1;34m\"x\"\u001b[0m \u001b[1;32melse\u001b[0m \u001b[0max\u001b[0m\u001b[1;33m.\u001b[0m\u001b[0mbarh\u001b[0m\u001b[1;33m\u001b[0m\u001b[1;33m\u001b[0m\u001b[0m\n\u001b[0;32m    553\u001b[0m                 \u001b[0mmove\u001b[0m \u001b[1;33m=\u001b[0m \u001b[1;36m.5\u001b[0m \u001b[1;33m*\u001b[0m \u001b[1;33m(\u001b[0m\u001b[1;36m1\u001b[0m \u001b[1;33m-\u001b[0m \u001b[0mshrink\u001b[0m\u001b[1;33m)\u001b[0m\u001b[1;33m\u001b[0m\u001b[1;33m\u001b[0m\u001b[0m\n\u001b[1;32m--> 554\u001b[1;33m                 artists = plot_func(\n\u001b[0m\u001b[0;32m    555\u001b[0m                     \u001b[0mhist\u001b[0m\u001b[1;33m[\u001b[0m\u001b[1;34m\"edges\"\u001b[0m\u001b[1;33m]\u001b[0m \u001b[1;33m+\u001b[0m \u001b[0mmove\u001b[0m\u001b[1;33m,\u001b[0m\u001b[1;33m\u001b[0m\u001b[1;33m\u001b[0m\u001b[0m\n\u001b[0;32m    556\u001b[0m                     \u001b[0mhist\u001b[0m\u001b[1;33m[\u001b[0m\u001b[1;34m\"heights\"\u001b[0m\u001b[1;33m]\u001b[0m \u001b[1;33m-\u001b[0m \u001b[0mbottom\u001b[0m\u001b[1;33m,\u001b[0m\u001b[1;33m\u001b[0m\u001b[1;33m\u001b[0m\u001b[0m\n",
      "\u001b[1;32m~\\anaconda3\\lib\\site-packages\\matplotlib\\__init__.py\u001b[0m in \u001b[0;36minner\u001b[1;34m(ax, data, *args, **kwargs)\u001b[0m\n\u001b[0;32m   1436\u001b[0m     \u001b[1;32mdef\u001b[0m \u001b[0minner\u001b[0m\u001b[1;33m(\u001b[0m\u001b[0max\u001b[0m\u001b[1;33m,\u001b[0m \u001b[1;33m*\u001b[0m\u001b[0margs\u001b[0m\u001b[1;33m,\u001b[0m \u001b[0mdata\u001b[0m\u001b[1;33m=\u001b[0m\u001b[1;32mNone\u001b[0m\u001b[1;33m,\u001b[0m \u001b[1;33m**\u001b[0m\u001b[0mkwargs\u001b[0m\u001b[1;33m)\u001b[0m\u001b[1;33m:\u001b[0m\u001b[1;33m\u001b[0m\u001b[1;33m\u001b[0m\u001b[0m\n\u001b[0;32m   1437\u001b[0m         \u001b[1;32mif\u001b[0m \u001b[0mdata\u001b[0m \u001b[1;32mis\u001b[0m \u001b[1;32mNone\u001b[0m\u001b[1;33m:\u001b[0m\u001b[1;33m\u001b[0m\u001b[1;33m\u001b[0m\u001b[0m\n\u001b[1;32m-> 1438\u001b[1;33m             \u001b[1;32mreturn\u001b[0m \u001b[0mfunc\u001b[0m\u001b[1;33m(\u001b[0m\u001b[0max\u001b[0m\u001b[1;33m,\u001b[0m \u001b[1;33m*\u001b[0m\u001b[0mmap\u001b[0m\u001b[1;33m(\u001b[0m\u001b[0msanitize_sequence\u001b[0m\u001b[1;33m,\u001b[0m \u001b[0margs\u001b[0m\u001b[1;33m)\u001b[0m\u001b[1;33m,\u001b[0m \u001b[1;33m**\u001b[0m\u001b[0mkwargs\u001b[0m\u001b[1;33m)\u001b[0m\u001b[1;33m\u001b[0m\u001b[1;33m\u001b[0m\u001b[0m\n\u001b[0m\u001b[0;32m   1439\u001b[0m \u001b[1;33m\u001b[0m\u001b[0m\n\u001b[0;32m   1440\u001b[0m         \u001b[0mbound\u001b[0m \u001b[1;33m=\u001b[0m \u001b[0mnew_sig\u001b[0m\u001b[1;33m.\u001b[0m\u001b[0mbind\u001b[0m\u001b[1;33m(\u001b[0m\u001b[0max\u001b[0m\u001b[1;33m,\u001b[0m \u001b[1;33m*\u001b[0m\u001b[0margs\u001b[0m\u001b[1;33m,\u001b[0m \u001b[1;33m**\u001b[0m\u001b[0mkwargs\u001b[0m\u001b[1;33m)\u001b[0m\u001b[1;33m\u001b[0m\u001b[1;33m\u001b[0m\u001b[0m\n",
      "\u001b[1;32m~\\anaconda3\\lib\\site-packages\\matplotlib\\axes\\_axes.py\u001b[0m in \u001b[0;36mbar\u001b[1;34m(self, x, height, width, bottom, align, **kwargs)\u001b[0m\n\u001b[0;32m   2486\u001b[0m                 \u001b[0mlabel\u001b[0m\u001b[1;33m=\u001b[0m\u001b[1;34m'_nolegend_'\u001b[0m\u001b[1;33m,\u001b[0m\u001b[1;33m\u001b[0m\u001b[1;33m\u001b[0m\u001b[0m\n\u001b[0;32m   2487\u001b[0m                 )\n\u001b[1;32m-> 2488\u001b[1;33m             \u001b[0mr\u001b[0m\u001b[1;33m.\u001b[0m\u001b[0mupdate\u001b[0m\u001b[1;33m(\u001b[0m\u001b[0mkwargs\u001b[0m\u001b[1;33m)\u001b[0m\u001b[1;33m\u001b[0m\u001b[1;33m\u001b[0m\u001b[0m\n\u001b[0m\u001b[0;32m   2489\u001b[0m             \u001b[0mr\u001b[0m\u001b[1;33m.\u001b[0m\u001b[0mget_path\u001b[0m\u001b[1;33m(\u001b[0m\u001b[1;33m)\u001b[0m\u001b[1;33m.\u001b[0m\u001b[0m_interpolation_steps\u001b[0m \u001b[1;33m=\u001b[0m \u001b[1;36m100\u001b[0m\u001b[1;33m\u001b[0m\u001b[1;33m\u001b[0m\u001b[0m\n\u001b[0;32m   2490\u001b[0m             \u001b[1;32mif\u001b[0m \u001b[0morientation\u001b[0m \u001b[1;33m==\u001b[0m \u001b[1;34m'vertical'\u001b[0m\u001b[1;33m:\u001b[0m\u001b[1;33m\u001b[0m\u001b[1;33m\u001b[0m\u001b[0m\n",
      "\u001b[1;32m~\\anaconda3\\lib\\site-packages\\matplotlib\\artist.py\u001b[0m in \u001b[0;36mupdate\u001b[1;34m(self, props)\u001b[0m\n\u001b[0;32m    994\u001b[0m                     \u001b[0mfunc\u001b[0m \u001b[1;33m=\u001b[0m \u001b[0mgetattr\u001b[0m\u001b[1;33m(\u001b[0m\u001b[0mself\u001b[0m\u001b[1;33m,\u001b[0m \u001b[1;34mf\"set_{k}\"\u001b[0m\u001b[1;33m,\u001b[0m \u001b[1;32mNone\u001b[0m\u001b[1;33m)\u001b[0m\u001b[1;33m\u001b[0m\u001b[1;33m\u001b[0m\u001b[0m\n\u001b[0;32m    995\u001b[0m                     \u001b[1;32mif\u001b[0m \u001b[1;32mnot\u001b[0m \u001b[0mcallable\u001b[0m\u001b[1;33m(\u001b[0m\u001b[0mfunc\u001b[0m\u001b[1;33m)\u001b[0m\u001b[1;33m:\u001b[0m\u001b[1;33m\u001b[0m\u001b[1;33m\u001b[0m\u001b[0m\n\u001b[1;32m--> 996\u001b[1;33m                         raise AttributeError(f\"{type(self).__name__!r} object \"\n\u001b[0m\u001b[0;32m    997\u001b[0m                                              f\"has no property {k!r}\")\n\u001b[0;32m    998\u001b[0m                     \u001b[0mret\u001b[0m\u001b[1;33m.\u001b[0m\u001b[0mappend\u001b[0m\u001b[1;33m(\u001b[0m\u001b[0mfunc\u001b[0m\u001b[1;33m(\u001b[0m\u001b[0mv\u001b[0m\u001b[1;33m)\u001b[0m\u001b[1;33m)\u001b[0m\u001b[1;33m\u001b[0m\u001b[1;33m\u001b[0m\u001b[0m\n",
      "\u001b[1;31mAttributeError\u001b[0m: 'Rectangle' object has no property 'hist'"
     ]
    },
    {
     "data": {
      "image/png": "[encoded data removed]",
      "text/plain": [
       "<Figure size 360x360 with 1 Axes>"
      ]
     },
     "metadata": {
      "needs_background": "light"
     },
     "output_type": "display_data"
    }
   ],
   "source": [
    "# Seaborn Module\n",
    "\n",
    "    # Seaborn is a library that uses Matplotlib underneath to plot graphs. It will be used to visualize random distributions.\n",
    "    \n",
    "# Distplots\n",
    "    # Distplot stands for distribution plot, it takes as input an array and plots a curve corresponding\n",
    "    # to the distribution of points in the array.\n",
    "    \n",
    "# Import Matplotlib\n",
    "import matplotlib.pyplot as plt\n",
    "\n",
    "# Import Seaborn\n",
    "import seaborn as sns\n",
    "\n",
    "# Plotting a Displot\n",
    "sns.distplot([0, 1, 2, 3, 4, 5, 6])\n",
    "plt.show()\n",
    "\n",
    "sns.displot([0, 1, 2, 3, 4, 5, 6], hist=False)\n",
    "plt.show()\n"
   ]
  },
  {
   "cell_type": "code",
   "execution_count": 21,
   "metadata": {},
   "outputs": [
    {
     "name": "stdout",
     "output_type": "stream",
     "text": [
      "[[-0.50540503 -0.42017228  0.72754226]\n",
      " [ 0.999562   -1.7378964   0.2615761 ]]\n",
      "\n",
      "\n",
      "[[-2.54888286 -1.15233221  0.62262168]\n",
      " [ 3.46226254 -3.0245763   0.82558839]]\n"
     ]
    },
    {
     "name": "stderr",
     "output_type": "stream",
     "text": [
      "C:\\Users\\Artur\\anaconda3\\lib\\site-packages\\seaborn\\distributions.py:2551: FutureWarning: `distplot` is a deprecated function and will be removed in a future version. Please adapt your code to use either `displot` (a figure-level function with similar flexibility) or `kdeplot` (an axes-level function for kernel density plots).\n",
      "  warnings.warn(msg, FutureWarning)\n"
     ]
    },
    {
     "data": {
      "image/png": "[encoded data removed]",
      "text/plain": [
       "<Figure size 432x288 with 1 Axes>"
      ]
     },
     "metadata": {
      "needs_background": "light"
     },
     "output_type": "display_data"
    }
   ],
   "source": [
    "# Normal (Gaussian) Distribution\n",
    "    # Use the random.normal() method to get a Normal Data Distribution.\n",
    "\n",
    "    # It has three parameters:\n",
    "\n",
    "        # loc - (Mean) where the peak of the bell exists.\n",
    "\n",
    "        # scale - (Standard Deviation) how flat the graph distribution should be.\n",
    "\n",
    "        # size - The shape of the returned array.\n",
    "        \n",
    "import numpy as np\n",
    "from numpy import random\n",
    "import statistics as sts\n",
    "\n",
    "x = random.normal(size=(2,3))\n",
    "\n",
    "print(x)\n",
    "\n",
    "\n",
    "print('\\n')\n",
    "# Generate a random normal distribution of size 2x3 with mean at 1 and standard deviation of 2:\n",
    "x = random.normal(loc = 1, scale = 2, size = (2,3) )\n",
    "\n",
    "print(x)\n",
    "\n",
    "\n",
    "\n",
    "# Visualization of Normal Distribution\n",
    "import matplotlib.pyplot as plt\n",
    "import seaborn as sns\n",
    "\n",
    "sns.distplot(random.normal(size=1000), hist=False)\n",
    "\n",
    "plt.show()\n",
    "\n"
   ]
  },
  {
   "cell_type": "code",
   "execution_count": 24,
   "metadata": {},
   "outputs": [
    {
     "name": "stdout",
     "output_type": "stream",
     "text": [
      "[2 2 5 4 6 5 4 5 4 4]\n"
     ]
    },
    {
     "data": {
      "image/png": "[encoded data removed]",
      "text/plain": [
       "<Figure size 432x288 with 1 Axes>"
      ]
     },
     "metadata": {
      "needs_background": "light"
     },
     "output_type": "display_data"
    },
    {
     "name": "stderr",
     "output_type": "stream",
     "text": [
      "C:\\Users\\Artur\\anaconda3\\lib\\site-packages\\seaborn\\distributions.py:2551: FutureWarning: `distplot` is a deprecated function and will be removed in a future version. Please adapt your code to use either `displot` (a figure-level function with similar flexibility) or `kdeplot` (an axes-level function for kernel density plots).\n",
      "  warnings.warn(msg, FutureWarning)\n",
      "C:\\Users\\Artur\\anaconda3\\lib\\site-packages\\seaborn\\distributions.py:2551: FutureWarning: `distplot` is a deprecated function and will be removed in a future version. Please adapt your code to use either `displot` (a figure-level function with similar flexibility) or `kdeplot` (an axes-level function for kernel density plots).\n",
      "  warnings.warn(msg, FutureWarning)\n"
     ]
    },
    {
     "data": {
      "image/png": "[encoded data removed]",
      "text/plain": [
       "<Figure size 432x288 with 1 Axes>"
      ]
     },
     "metadata": {
      "needs_background": "light"
     },
     "output_type": "display_data"
    }
   ],
   "source": [
    "# Binomial Distribution\n",
    "    # It describes the outcome of binary scenarios, e.g. toss of a coin, it will either be head or tails.\n",
    "    \n",
    "    # It has three parameters:\n",
    "        # n - number of trials.\n",
    "        # p - probability of occurence of each trial (e.g. for toss of a coin 0.5 each).\n",
    "        # size - The shape of the returned array.\n",
    "        \n",
    "# Discrete Distribution:The distribution is defined at separate set of events, e.g. a coin toss's result\n",
    "# is discrete as it can be only head or tails whereas height of people is continuous as it can be 170, 170.1,\n",
    "# 170.11 and so on\n",
    "\n",
    "from numpy import random\n",
    "\n",
    "x = random.binomial(n = 10, p = 0.5, size = 10)\n",
    "print(x)\n",
    "\n",
    "\n",
    "import matplotlib.pyplot as plt\n",
    "import seaborn as sns\n",
    "\n",
    "sns.distplot(random.binomial(n=10, p=0.5, size=1000), hist=True, kde=False)\n",
    "\n",
    "plt.show()\n",
    "\n",
    "\n",
    "\n",
    "# Difference Between Normal and Binomial Distribution\n",
    "    # The main difference is that normal distribution is continous whereas\n",
    "    # binomial is discrete, but if there are enough data points itwill be quite similar to normal\n",
    "    # distribution with certain loc and scale.\n",
    "    \n",
    "sns.distplot(random.normal(loc=50, scale=5, size=1000), hist=False, label='normal')\n",
    "sns.distplot(random.binomial(n=100, p=0.5, size=1000), hist=False, label='binomial')\n",
    "\n",
    "plt.show()"
   ]
  },
  {
   "cell_type": "code",
   "execution_count": 28,
   "metadata": {},
   "outputs": [
    {
     "name": "stdout",
     "output_type": "stream",
     "text": [
      "[5 1 1 0 1 3 5 4 1 0]\n"
     ]
    },
    {
     "name": "stderr",
     "output_type": "stream",
     "text": [
      "C:\\Users\\Artur\\anaconda3\\lib\\site-packages\\seaborn\\distributions.py:2551: FutureWarning: `distplot` is a deprecated function and will be removed in a future version. Please adapt your code to use either `displot` (a figure-level function with similar flexibility) or `histplot` (an axes-level function for histograms).\n",
      "  warnings.warn(msg, FutureWarning)\n"
     ]
    },
    {
     "data": {
      "image/png": "[encoded data removed]",
      "text/plain": [
       "<Figure size 432x288 with 1 Axes>"
      ]
     },
     "metadata": {
      "needs_background": "light"
     },
     "output_type": "display_data"
    },
    {
     "name": "stderr",
     "output_type": "stream",
     "text": [
      "C:\\Users\\Artur\\anaconda3\\lib\\site-packages\\seaborn\\distributions.py:2551: FutureWarning: `distplot` is a deprecated function and will be removed in a future version. Please adapt your code to use either `displot` (a figure-level function with similar flexibility) or `kdeplot` (an axes-level function for kernel density plots).\n",
      "  warnings.warn(msg, FutureWarning)\n",
      "C:\\Users\\Artur\\anaconda3\\lib\\site-packages\\seaborn\\distributions.py:2551: FutureWarning: `distplot` is a deprecated function and will be removed in a future version. Please adapt your code to use either `displot` (a figure-level function with similar flexibility) or `kdeplot` (an axes-level function for kernel density plots).\n",
      "  warnings.warn(msg, FutureWarning)\n"
     ]
    },
    {
     "data": {
      "image/png": "[encoded data removed]",
      "text/plain": [
       "<Figure size 432x288 with 1 Axes>"
      ]
     },
     "metadata": {
      "needs_background": "light"
     },
     "output_type": "display_data"
    },
    {
     "name": "stderr",
     "output_type": "stream",
     "text": [
      "C:\\Users\\Artur\\anaconda3\\lib\\site-packages\\seaborn\\distributions.py:2551: FutureWarning: `distplot` is a deprecated function and will be removed in a future version. Please adapt your code to use either `displot` (a figure-level function with similar flexibility) or `kdeplot` (an axes-level function for kernel density plots).\n",
      "  warnings.warn(msg, FutureWarning)\n",
      "C:\\Users\\Artur\\anaconda3\\lib\\site-packages\\seaborn\\distributions.py:2551: FutureWarning: `distplot` is a deprecated function and will be removed in a future version. Please adapt your code to use either `displot` (a figure-level function with similar flexibility) or `kdeplot` (an axes-level function for kernel density plots).\n",
      "  warnings.warn(msg, FutureWarning)\n"
     ]
    },
    {
     "data": {
      "image/png": "[encoded data removed]",
      "text/plain": [
       "<Figure size 432x288 with 1 Axes>"
      ]
     },
     "metadata": {
      "needs_background": "light"
     },
     "output_type": "display_data"
    }
   ],
   "source": [
    "# Poisson Distribution\n",
    "    # Poisson Distribution is a Discrete Distribution.\n",
    "    \n",
    "    # It estimates how many times an event can happen in a specified time. e.g. If someone eats\n",
    "    # twice a day what is probability he will eat thrice?\n",
    "    \n",
    "    # It has two parameters:\n",
    "        # lam - rate or known number of occurences e.g. 2 for above problem.\n",
    "        # size - The shape of the returned array.\n",
    "        \n",
    "from numpy import random\n",
    "import matplotlib.pyplot as plt\n",
    "import seaborn as sns\n",
    "\n",
    "x = random.poisson(lam = 2, size = 10)\n",
    "\n",
    "print(x)\n",
    "\n",
    "sns.distplot(random.poisson(lam=2, size=1000), kde=False)\n",
    "\n",
    "plt.show()\n",
    "\n",
    "\n",
    "\n",
    "# Difference Between Normal and Poisson Distribution\n",
    "    # Normal distribution is continous whereas poisson is discrete.\n",
    "\n",
    "    # But we can see that similar to binomial for a large enough poisson distribution it will become\n",
    "    # similar to normal distribution with certain std dev and mean.\n",
    "    \n",
    "sns.distplot(random.normal(loc=50, scale=7, size=1000), hist=False, label='normal')\n",
    "sns.distplot(random.poisson(lam=50, size=1000), hist=False, label='poisson')\n",
    "\n",
    "plt.show()\n",
    "\n",
    "\n",
    "\n",
    "# Difference Between Poisson and Binomial Distribution\n",
    "    # The difference is very subtle it is that, binomial distribution is for discrete trials, whereas\n",
    "    # poisson distribution is for continuous trials.\n",
    "\n",
    "    # But for very large n and near-zero p binomial distribution is near identical to poisson distribution\n",
    "    # such that n * p is nearly equal to lam.\n",
    "    \n",
    "sns.distplot(random.binomial(n=1000, p=0.01, size=1000), hist=False, label='binomial')\n",
    "sns.distplot(random.poisson(lam=10, size=1000), hist=False, label='poisson')\n",
    "\n",
    "plt.show()"
   ]
  },
  {
   "cell_type": "code",
   "execution_count": 30,
   "metadata": {},
   "outputs": [
    {
     "name": "stdout",
     "output_type": "stream",
     "text": [
      "[[0.80531077 0.84819265 0.99655536]\n",
      " [0.95875388 0.36926389 0.44589599]]\n"
     ]
    },
    {
     "name": "stderr",
     "output_type": "stream",
     "text": [
      "C:\\Users\\Artur\\anaconda3\\lib\\site-packages\\seaborn\\distributions.py:2551: FutureWarning: `distplot` is a deprecated function and will be removed in a future version. Please adapt your code to use either `displot` (a figure-level function with similar flexibility) or `kdeplot` (an axes-level function for kernel density plots).\n",
      "  warnings.warn(msg, FutureWarning)\n"
     ]
    },
    {
     "data": {
      "image/png": "[encoded data removed]",
      "text/plain": [
       "<Figure size 432x288 with 1 Axes>"
      ]
     },
     "metadata": {
      "needs_background": "light"
     },
     "output_type": "display_data"
    }
   ],
   "source": [
    "# Uniform Distribution\n",
    "\n",
    "    # Used to describe probability where every event has equal chances of occuring.\n",
    "\n",
    "    # E.g. Generation of random numbers.\n",
    "\n",
    "    # It has three parameters:\n",
    "\n",
    "        # a - lower bound - default 0 .0.\n",
    "\n",
    "        # b - upper bound - default 1.0.\n",
    "        \n",
    "        # size - The shape of the returned array.\n",
    "        \n",
    "from numpy import random\n",
    "import matplotlib.pyplot as plt\n",
    "import seaborn as sns\n",
    "\n",
    "x = random.uniform(size=(2, 3))\n",
    "\n",
    "print(x)\n",
    "\n",
    "sns.distplot(random.uniform(size=1000), hist=False)\n",
    "\n",
    "plt.show()"
   ]
  },
  {
   "cell_type": "code",
   "execution_count": 2,
   "metadata": {},
   "outputs": [
    {
     "name": "stdout",
     "output_type": "stream",
     "text": [
      "[[ 3.35629839  4.64870646 -1.16995271]\n",
      " [-2.02219138 -3.29445941  7.19335305]]\n"
     ]
    },
    {
     "name": "stderr",
     "output_type": "stream",
     "text": [
      "C:\\Users\\Artur\\anaconda3\\lib\\site-packages\\seaborn\\distributions.py:2551: FutureWarning: `distplot` is a deprecated function and will be removed in a future version. Please adapt your code to use either `displot` (a figure-level function with similar flexibility) or `kdeplot` (an axes-level function for kernel density plots).\n",
      "  warnings.warn(msg, FutureWarning)\n"
     ]
    },
    {
     "data": {
      "image/png": "[encoded data removed]",
      "text/plain": [
       "<Figure size 432x288 with 1 Axes>"
      ]
     },
     "metadata": {
      "needs_background": "light"
     },
     "output_type": "display_data"
    },
    {
     "name": "stderr",
     "output_type": "stream",
     "text": [
      "C:\\Users\\Artur\\anaconda3\\lib\\site-packages\\seaborn\\distributions.py:2551: FutureWarning: `distplot` is a deprecated function and will be removed in a future version. Please adapt your code to use either `displot` (a figure-level function with similar flexibility) or `kdeplot` (an axes-level function for kernel density plots).\n",
      "  warnings.warn(msg, FutureWarning)\n",
      "C:\\Users\\Artur\\anaconda3\\lib\\site-packages\\seaborn\\distributions.py:2551: FutureWarning: `distplot` is a deprecated function and will be removed in a future version. Please adapt your code to use either `displot` (a figure-level function with similar flexibility) or `kdeplot` (an axes-level function for kernel density plots).\n",
      "  warnings.warn(msg, FutureWarning)\n"
     ]
    },
    {
     "data": {
      "image/png": "[encoded data removed]",
      "text/plain": [
       "<Figure size 432x288 with 1 Axes>"
      ]
     },
     "metadata": {
      "needs_background": "light"
     },
     "output_type": "display_data"
    }
   ],
   "source": [
    "# Logistic Distribution\n",
    "    # Logistic Distribution is used to describe growth.\n",
    "\n",
    "    # Used extensively in machine learning in logistic regression, neural networks etc.\n",
    "    \n",
    "    # It has three parameters:\n",
    "\n",
    "        # loc - mean, where the peak is. Default 0.\n",
    "\n",
    "        # scale - standard deviation, the flatness of distribution. Default 1.\n",
    "\n",
    "        # size - The shape of the returned array.\n",
    "        \n",
    "from numpy import random\n",
    "import matplotlib.pyplot as plt\n",
    "import seaborn as sns\n",
    "\n",
    "x = random.logistic(loc=1, scale=2, size=(2, 3))\n",
    "\n",
    "print(x)\n",
    "\n",
    "sns.distplot(random.logistic(size=1000), hist=False)\n",
    "\n",
    "plt.show()\n",
    "\n",
    "\n",
    "\n",
    "# Difference Between Logistic and Normal Distribution\n",
    "    # Both distributions are near identical, but logistic distribution has more area under the tails. ie.\n",
    "    # It representage more possibility of occurence of an events further away from mean.\n",
    "    \n",
    "    # For higher value of scale (standard deviation) the normal and logistic distributions are near identical apart\n",
    "    # from the peak.\n",
    "    \n",
    "sns.distplot(random.normal(scale=2, size=1000), hist=False, label='normal')\n",
    "sns.distplot(random.logistic(size=1000), hist=False, label='logistic')\n",
    "\n",
    "plt.show()"
   ]
  },
  {
   "cell_type": "code",
   "execution_count": 3,
   "metadata": {},
   "outputs": [
    {
     "name": "stdout",
     "output_type": "stream",
     "text": [
      "[2 1 0 1 2 0]\n"
     ]
    }
   ],
   "source": [
    "# Multinomial Distribution\n",
    "    # Multinomial distribution is a generalization of binomial distribution.\n",
    "\n",
    "    # It describes outcomes of multi-nomial scenarios unlike binomial where scenarios\n",
    "    # must be only one of two. e.g. Blood type of a population, dice roll outcome.\n",
    "    \n",
    "    # It has three parameters:\n",
    "    \n",
    "        # n - number of possible outcomes (e.g. 6 for dice roll).\n",
    "        \n",
    "        # pvals - list of probabilties of outcomes (e.g. [1/6, 1/6, 1/6, 1/6, 1/6, 1/6] for dice roll).\n",
    "        \n",
    "        # size - The shape of the returned array.\n",
    "        \n",
    "from numpy import random\n",
    "\n",
    "x = random.multinomial(n=6, pvals=[1/6, 1/6, 1/6, 1/6, 1/6, 1/6])\n",
    "\n",
    "print(x)    \n",
    "\n",
    "# Note: Multinomial samples will NOT produce a single value! They will produce one value for each pval."
   ]
  },
  {
   "cell_type": "code",
   "execution_count": 5,
   "metadata": {},
   "outputs": [
    {
     "name": "stdout",
     "output_type": "stream",
     "text": [
      "[[0.12770248 3.09223932 1.26252802]\n",
      " [0.06890451 3.65107987 0.30685005]]\n"
     ]
    },
    {
     "name": "stderr",
     "output_type": "stream",
     "text": [
      "C:\\Users\\Artur\\anaconda3\\lib\\site-packages\\seaborn\\distributions.py:2551: FutureWarning: `distplot` is a deprecated function and will be removed in a future version. Please adapt your code to use either `displot` (a figure-level function with similar flexibility) or `kdeplot` (an axes-level function for kernel density plots).\n",
      "  warnings.warn(msg, FutureWarning)\n"
     ]
    },
    {
     "data": {
      "image/png": "[encoded data removed]",
      "text/plain": [
       "<Figure size 432x288 with 1 Axes>"
      ]
     },
     "metadata": {
      "needs_background": "light"
     },
     "output_type": "display_data"
    }
   ],
   "source": [
    "# Exponential Distribution\n",
    "\n",
    "    # Exponential distribution is used for describing time till next event e.g. failure/success etc.\n",
    "\n",
    "    # It has two parameters:\n",
    "    \n",
    "        # scale - inverse of rate ( see lam in poisson distribution ) defaults to 1.0.\n",
    "        \n",
    "        # size - The shape of the returned array.\n",
    "        \n",
    "from numpy import random\n",
    "import matplotlib.pyplot as plt\n",
    "import seaborn as sns\n",
    "\n",
    "x = random.exponential(scale=2, size=(2, 3))\n",
    "\n",
    "print(x)\n",
    "\n",
    "\n",
    "sns.distplot(random.exponential(size=1000), hist=False)\n",
    "\n",
    "plt.show()\n",
    "\n",
    "\n",
    "\n",
    "# Relation Between Poisson and Exponential Distribution\n",
    "    # Poisson distribution deals with number of occurences of an event in a time period whereas exponential\n",
    "    # distribution deals with the time between these events."
   ]
  },
  {
   "cell_type": "code",
   "execution_count": 6,
   "metadata": {},
   "outputs": [
    {
     "name": "stdout",
     "output_type": "stream",
     "text": [
      "[[0.52367901 5.94534977 3.70022575]\n",
      " [3.02727978 0.81621458 0.55636299]]\n"
     ]
    },
    {
     "name": "stderr",
     "output_type": "stream",
     "text": [
      "C:\\Users\\Artur\\anaconda3\\lib\\site-packages\\seaborn\\distributions.py:2551: FutureWarning: `distplot` is a deprecated function and will be removed in a future version. Please adapt your code to use either `displot` (a figure-level function with similar flexibility) or `kdeplot` (an axes-level function for kernel density plots).\n",
      "  warnings.warn(msg, FutureWarning)\n"
     ]
    },
    {
     "data": {
      "image/png": "[encoded data removed]",
      "text/plain": [
       "<Figure size 432x288 with 1 Axes>"
      ]
     },
     "metadata": {
      "needs_background": "light"
     },
     "output_type": "display_data"
    }
   ],
   "source": [
    "# Chi Square Distribution\n",
    "    \n",
    "    # Chi Square distribution is used as a basis to verify the hypothesis.\n",
    "\n",
    "    # It has two parameters:\n",
    "    \n",
    "        # df - (degree of freedom).\n",
    "        \n",
    "        # size - The shape of the returned array.\n",
    "        \n",
    "from numpy import random\n",
    "import matplotlib.pyplot as plt\n",
    "import seaborn as sns\n",
    "\n",
    "x = random.chisquare(df=2, size=(2, 3))\n",
    "\n",
    "print(x)\n",
    "\n",
    "sns.distplot(random.chisquare(df=1, size=1000), hist=False)\n",
    "\n",
    "plt.show()"
   ]
  },
  {
   "cell_type": "code",
   "execution_count": 7,
   "metadata": {},
   "outputs": [
    {
     "name": "stdout",
     "output_type": "stream",
     "text": [
      "[[1.40179498 2.02369103 2.36944755]\n",
      " [2.98873281 1.66407755 3.06574594]]\n"
     ]
    },
    {
     "name": "stderr",
     "output_type": "stream",
     "text": [
      "C:\\Users\\Artur\\anaconda3\\lib\\site-packages\\seaborn\\distributions.py:2551: FutureWarning: `distplot` is a deprecated function and will be removed in a future version. Please adapt your code to use either `displot` (a figure-level function with similar flexibility) or `kdeplot` (an axes-level function for kernel density plots).\n",
      "  warnings.warn(msg, FutureWarning)\n"
     ]
    },
    {
     "data": {
      "image/png": "[encoded data removed]",
      "text/plain": [
       "<Figure size 432x288 with 1 Axes>"
      ]
     },
     "metadata": {
      "needs_background": "light"
     },
     "output_type": "display_data"
    }
   ],
   "source": [
    "# Rayleigh Distribution\n",
    "\n",
    "    # Rayleigh distribution is used in signal processing.\n",
    "\n",
    "    # It has two parameters:\n",
    "\n",
    "        # scale - (standard deviation) decides how flat the distribution will be default 1.0).\n",
    "\n",
    "        # size - The shape of the returned array.\n",
    "        \n",
    "from numpy import random\n",
    "import matplotlib.pyplot as plt\n",
    "import seaborn as sns\n",
    "\n",
    "x = random.rayleigh(scale=2, size=(2, 3))\n",
    "\n",
    "print(x)\n",
    "\n",
    "sns.distplot(random.rayleigh(size=1000), hist=False)\n",
    "\n",
    "plt.show()"
   ]
  },
  {
   "cell_type": "code",
   "execution_count": 8,
   "metadata": {},
   "outputs": [
    {
     "name": "stdout",
     "output_type": "stream",
     "text": [
      "[[0.07425962 0.44422402 0.17134079]\n",
      " [2.54375375 1.96213245 0.55281603]]\n"
     ]
    },
    {
     "name": "stderr",
     "output_type": "stream",
     "text": [
      "C:\\Users\\Artur\\anaconda3\\lib\\site-packages\\seaborn\\distributions.py:2551: FutureWarning: `distplot` is a deprecated function and will be removed in a future version. Please adapt your code to use either `displot` (a figure-level function with similar flexibility) or `histplot` (an axes-level function for histograms).\n",
      "  warnings.warn(msg, FutureWarning)\n"
     ]
    },
    {
     "data": {
      "image/png": "[encoded data removed]",
      "text/plain": [
       "<Figure size 432x288 with 1 Axes>"
      ]
     },
     "metadata": {
      "needs_background": "light"
     },
     "output_type": "display_data"
    }
   ],
   "source": [
    "# Pareto Distribution\n",
    "\n",
    "    # A distribution following Pareto's law i.e. 80-20 distribution (20% factors cause 80% outcome).\n",
    "\n",
    "    # It has two parameter:\n",
    "\n",
    "        # a - shape parameter.\n",
    "\n",
    "        # size - The shape of the returned array.\n",
    "        \n",
    "from numpy import random\n",
    "import matplotlib.pyplot as plt\n",
    "import seaborn as sns\n",
    "\n",
    "x = random.pareto(a=2, size=(2, 3))\n",
    "\n",
    "print(x)\n",
    "\n",
    "sns.distplot(random.pareto(a=2, size=1000), kde=False)\n",
    "\n",
    "plt.show()"
   ]
  },
  {
   "cell_type": "code",
   "execution_count": 9,
   "metadata": {},
   "outputs": [
    {
     "data": {
      "image/png": "[encoded data removed]",
      "text/plain": [
       "<Figure size 432x288 with 1 Axes>"
      ]
     },
     "metadata": {
      "needs_background": "light"
     },
     "output_type": "display_data"
    }
   ],
   "source": [
    "# Zipf Distribution\n",
    "\n",
    "# Zipf distritutions are used to sample data based on zipf's law.\n",
    "\n",
    "    # Zipf's Law: In a collection the nth common term is 1/n times of the most common term. E.g. 5th\n",
    "    # common word in english has occurs nearly 1/5th times as of the most used word.\n",
    "    \n",
    "# It has two parameters:\n",
    "\n",
    "    # a - distribution parameter.\n",
    "\n",
    "    # size - The shape of the returned array.\n",
    "    \n",
    "from numpy import random\n",
    "import matplotlib.pyplot as plt\n",
    "import seaborn as sns\n",
    "\n",
    "x = random.zipf(a=2, size=1000)\n",
    "sns.distplot(x[x<10], kde=False)\n",
    "\n",
    "plt.show()"
   ]
  },
  {
   "cell_type": "markdown",
   "metadata": {},
   "source": [
    "### NumPy ufuncs\n",
    "\n",
    "#### What are ufuncs?\n",
    "    ufuncs stands for \"Universal Functions\" and they are NumPy functions that operates on the ndarray object.\n",
    "\n",
    "#### Why use ufuncs?\n",
    "    ufuncs are used to implement vectorization in NumPy which is way faster than iterating over elements.\n",
    "\n",
    "    They also provide broadcasting and additional methods like reduce, accumulate etc. that are very helpful for computation.\n",
    "\n",
    "    ufuncs also take additional arguments, like:\n",
    "\n",
    "        where - boolean array or condition defining where the operations should take place.\n",
    "    \n",
    "        dtype - defining the return type of elements.\n",
    "\n",
    "        out - output array where the return value should be copied."
   ]
  },
  {
   "cell_type": "code",
   "execution_count": 17,
   "metadata": {},
   "outputs": [
    {
     "name": "stdout",
     "output_type": "stream",
     "text": [
      "[8, 10, 12, 14, 16, 18]\n",
      "\n",
      " [ 8 10 12 14 16 18]\n"
     ]
    }
   ],
   "source": [
    "# What is Vectorization?\n",
    "\n",
    "    # Converting iterative statements into a vector based operation is called vectorization.\n",
    "    \n",
    "    # It is faster as modern CPUs are optimized for such operations.\n",
    "    \n",
    "    \n",
    "    \n",
    "# Add the Elements of Two Lists\n",
    "\n",
    "    # One way of doing it is to iterate over both of the lists and then sum each elements.\n",
    "    \n",
    "    # Without ufunc, we can use Python's built-in zip() method:\n",
    "x = [1, 2, 3, 4, 5, 6]\n",
    "\n",
    "y = [7, 8, 9, 10, 11, 12]\n",
    "\n",
    "z = []\n",
    "\n",
    "for i, j in zip(x, y):\n",
    "    z.append(i + j)\n",
    "print(z)\n",
    "\n",
    "\n",
    "# NumPy has a ufunc for this, called add(x, y) that will produce the same result.\n",
    "import numpy as np\n",
    "\n",
    "z = np.add(x, y)\n",
    "print('\\n', z)\n",
    "\n",
    "\n"
   ]
  },
  {
   "cell_type": "code",
   "execution_count": 21,
   "metadata": {},
   "outputs": [
    {
     "name": "stdout",
     "output_type": "stream",
     "text": [
      "[6 8 10 12]\n",
      "<class 'numpy.ufunc'>\n",
      "<class 'function'>\n",
      "add is ufunc\n"
     ]
    }
   ],
   "source": [
    "# Create Your Own ufunc\n",
    "\n",
    "    # To create you own ufunc, you have to define a function, like you do with normal\n",
    "    # functions in Python, then you add it to your NumPy ufunc library with the frompyfunc() method.\n",
    "    \n",
    "    # The frompyfunc() method takes the following arguments:\n",
    "    \n",
    "        # function - the name of the function.\n",
    "        \n",
    "        # inputs - the number of input arguments (arrays).\n",
    "        \n",
    "        # outputs - the number of output arrays.\n",
    "        \n",
    "import numpy as np\n",
    "\n",
    "def myadd(x, y):\n",
    "    return x+y\n",
    "\n",
    "myadd = np.frompyfunc(myadd, 2, 1)\n",
    "\n",
    "print(myadd([1, 2, 3, 4], [5, 6, 7, 8]))\n",
    "\n",
    "\n",
    "# Check if a Function is a ufunc\n",
    "print(type(np.add))\n",
    "\n",
    "\n",
    "# If it is not a ufunc, it will return another type, like this built-in NumPy function for joining two or more arrays:\n",
    "print(type(np.concatenate))\n",
    "\n",
    "# If the function is not recognized at all, it will return an error.\n",
    "\n",
    "\n",
    "# To test if the function is a ufunc in an if statement, use the numpy.ufunc value (or np.ufunc if you\n",
    "# use np as an alias for numpy):\n",
    "\n",
    "if type(np.add) == np.ufunc:\n",
    "    print('add is ufunc')\n",
    "else:\n",
    "    print('add is not ufunc')\n"
   ]
  },
  {
   "cell_type": "code",
   "execution_count": 31,
   "metadata": {},
   "outputs": [
    {
     "name": "stdout",
     "output_type": "stream",
     "text": [
      "[30 32 34 36 38 40]\n",
      "\n",
      "\n",
      "[-10 -10 -10 -10 -10 -10]\n",
      "\n",
      "\n",
      "[200 231 264 299 336 375]\n",
      "\n",
      "\n",
      "[0.5        0.52380952 0.54545455 0.56521739 0.58333333 0.6       ]\n",
      "\n",
      "\n",
      "[ 1661992960   602408795           0  1487897765  1090519040 -1144744561]\n",
      "[ 1  6  3  0  0 27]\n",
      "\n",
      "\n",
      "[ 1  6  3  0  0 27]\n",
      "\n",
      "\n",
      "(array([ 3,  2,  3,  5, 25,  1], dtype=int32), array([ 1,  6,  3,  0,  0, 27], dtype=int32))\n",
      "[1 2 1 2 3 4]\n"
     ]
    }
   ],
   "source": [
    "# Simple Arithmetic\n",
    "\n",
    "# Arithmetic Conditionally: means that we can define conditions where the arithmetic operation should happen.\n",
    "\n",
    "\n",
    "# Addition\n",
    "    # The add() function sums the content of two arrays, and return the results in a new array.\n",
    "    \n",
    "import numpy as np\n",
    "\n",
    "arr1 = np.array([10, 11, 12, 13, 14, 15])\n",
    "arr2 = np.array([20, 21, 22, 23, 24, 25])\n",
    "\n",
    "newarr = np.add(arr1, arr2)\n",
    "\n",
    "print(newarr)\n",
    "\n",
    "\n",
    "\n",
    "\n",
    "# Subtraction\n",
    "print('\\n')\n",
    "\n",
    "newarr = np.subtract(arr1, arr2)\n",
    "\n",
    "print(newarr)\n",
    "\n",
    "\n",
    "# Multiplication\n",
    "print('\\n')\n",
    "\n",
    "newarr = np.multiply(arr1, arr2)\n",
    "\n",
    "print(newarr)\n",
    "\n",
    "\n",
    "\n",
    "# Division\n",
    "print('\\n')\n",
    "\n",
    "newarr = np.divide(arr1, arr2)\n",
    "\n",
    "print(newarr)\n",
    "\n",
    "\n",
    "\n",
    "# Power\n",
    "print('\\n')\n",
    "\n",
    "newarr = np.power(arr1, arr2)\n",
    "\n",
    "print(newarr)\n",
    "\n",
    "\n",
    "\n",
    "# Remainder e Mod - O resto da divisão\n",
    "arr1 = np.array([10, 20, 30, 40, 50, 60])\n",
    "arr2 = np.array([3, 7, 9, 8, 2, 33])\n",
    "\n",
    "newarr = np.mod(arr1, arr2)\n",
    "\n",
    "print(newarr)\n",
    "\n",
    "newarr = np.remainder(arr1, arr2)\n",
    "print('\\n')\n",
    "print(newarr)\n",
    "\n",
    "\n",
    "\n",
    "# Quotient and Mod\n",
    "    # The divmod() function return both the quotient and the the mod. The return value is two arrays,\n",
    "    # the first array contains the quotient and second array contains the mod.\n",
    "    \n",
    "print('\\n')\n",
    "newarr = np.divmod(arr1, arr2)\n",
    "\n",
    "print(newarr)\n",
    "\n",
    "\n",
    "\n",
    "# Absolute Values\n",
    "arr = np.array([-1, -2, 1, 2, 3, -4])\n",
    "\n",
    "newarr = np.absolute(arr)\n",
    "\n",
    "print(newarr)"
   ]
  },
  {
   "cell_type": "code",
   "execution_count": 5,
   "metadata": {},
   "outputs": [
    {
     "name": "stdout",
     "output_type": "stream",
     "text": [
      "[-3.  3.]\n",
      "3.17\n",
      "[-4.  3.]\n",
      "[-3.  4.]\n"
     ]
    }
   ],
   "source": [
    "# Rounding Decimals\n",
    "\n",
    "# There are primarily five ways of rounding off decimals in NumPy:\n",
    "\n",
    "    # truncation\n",
    "    # fix\n",
    "    # rounding\n",
    "    # floor\n",
    "    # ceil\n",
    "\n",
    "# Truncation - trun() or fix()\n",
    "    # Remove the decimals, and return the float number closest to zero.\n",
    "    \n",
    "import numpy as np\n",
    "\n",
    "arr = np.trunc([-3.1666, 3.6667])\n",
    "arr = np.fix([-3.1666, 3.6667])\n",
    "\n",
    "print(arr)\n",
    "\n",
    "\n",
    "# Rounding\n",
    "    # The around() function increments preceding digit or decimal by 1 if >=5 else do nothing.\n",
    "\n",
    "    # E.g. round off to 1 decimal point, 3.16666 is 3.2\n",
    "    \n",
    "arr = np.round(3.1666, 2)\n",
    "print(arr)\n",
    "\n",
    "\n",
    "\n",
    "# Floor\n",
    "    # The floor() function rounds off decimal to nearest lower integer.\n",
    "\n",
    "arr = np.floor([-3.1666, 3.6667])\n",
    "print(arr)\n",
    "\n",
    "# Note: The floor() function returns floats, unlike the trunc() function who returns integers.\n",
    "\n",
    "\n",
    "\n",
    "# Ceil\n",
    "    # The ceil() function rounds off decimal to nearest upper integer.\n",
    "arr = np.ceil([-3.1666, 3.6667])\n",
    "print(arr)\n"
   ]
  },
  {
   "cell_type": "code",
   "execution_count": 10,
   "metadata": {},
   "outputs": [
    {
     "name": "stdout",
     "output_type": "stream",
     "text": [
      "[0.         1.         1.5849625  2.         2.32192809 2.5849625\n",
      " 2.80735492 3.         3.169925  ]\n",
      "[0.         0.30103    0.47712125 0.60205999 0.69897    0.77815125\n",
      " 0.84509804 0.90308999 0.95424251]\n",
      "[0.         0.69314718 1.09861229 1.38629436 1.60943791 1.79175947\n",
      " 1.94591015 2.07944154 2.19722458]\n",
      "1.7005483074552052\n"
     ]
    }
   ],
   "source": [
    "# NumPy Logs\n",
    "\n",
    "    # NumPy provides functions to perform log at the base 2, e and 10.\n",
    "    \n",
    "    # We will also explore how we can take log for any base by creating a custom ufunc.\n",
    "    \n",
    "    # All of the log functions will place -inf or inf in the elements if the log can not be computed.\n",
    "    \n",
    "\n",
    "# Log at Base 2\n",
    "import numpy as np\n",
    "\n",
    "arr = np.arange(1, 10) # The arange(1, 10) function returns an array with integers starting from 1 (included) to 10 (not included).\n",
    "\n",
    "print(np.log2(arr))\n",
    "\n",
    "\n",
    "# Log at Base 10\n",
    "print(np.log10(arr))\n",
    "\n",
    "\n",
    "# Natural Log, or Log at Base e\n",
    "    # Use the log() function to perform log at the base e.\n",
    "print(np.log(arr))\n",
    "\n",
    "\n",
    "# Log at Any Base\n",
    "    # NumPy does not provide any function to take log at any base, so we can use the frompyfunc() function\n",
    "    # along with inbuilt function math.log() with two input parameters and one output parameter:\n",
    "from math import log\n",
    "    \n",
    "nplog = np.frompyfunc(log, 2, 1)\n",
    "\n",
    "print(nplog(100, 15))"
   ]
  },
  {
   "cell_type": "code",
   "execution_count": 14,
   "metadata": {},
   "outputs": [
    {
     "name": "stdout",
     "output_type": "stream",
     "text": [
      "[2 4 6]\n",
      "12\n",
      "[6 6]\n",
      "[1 3 6]\n"
     ]
    }
   ],
   "source": [
    "# NumPy Summations\n",
    "\n",
    "    # What is the difference between summation and addition?\n",
    "    \n",
    "    # Addition is done between two arguments whereas summation happens over n elements.\n",
    "    \n",
    "import numpy as np\n",
    "\n",
    "arr1 = np.array([1, 2, 3])\n",
    "arr2 = np.array([1, 2, 3])\n",
    "\n",
    "newarr = np.add(arr1, arr2) # return: [2 4 6]\n",
    "print(newarr)\n",
    "\n",
    "\n",
    "newarr = np.sum([arr1, arr2]) # return: 12\n",
    "print(newarr)\n",
    "\n",
    "# Summation Over an Axis\n",
    "newarr = np.sum([arr1, arr2], axis = 1)\n",
    "print(newarr)\n",
    "\n",
    "\n",
    "# Cummulative Sum\n",
    "    # Cummulative sum means partially adding the elements in array.\n",
    "\n",
    "    # E.g. The partial sum of [1, 2, 3, 4] would be [1, 1+2, 1+2+3, 1+2+3+4] = [1, 3, 6, 10].\n",
    "    \n",
    "    # Perfom partial sum with the cumsum() function.\n",
    "    \n",
    "arr = np.array([1, 2, 3])\n",
    "\n",
    "newarr = np.cumsum(arr)\n",
    "\n",
    "print(newarr)"
   ]
  },
  {
   "cell_type": "code",
   "execution_count": 18,
   "metadata": {},
   "outputs": [
    {
     "name": "stdout",
     "output_type": "stream",
     "text": [
      "24\n",
      "40320\n",
      "[  24 1680]\n",
      "[   5   30  210 1680]\n"
     ]
    }
   ],
   "source": [
    "# NumPy Products\n",
    "\n",
    "import numpy as np\n",
    "\n",
    "arr = np.array([1, 2, 3, 4])\n",
    "\n",
    "x = np.prod(arr) # return: 24 - 1*2*3*4\n",
    "\n",
    "print(x)\n",
    "\n",
    "\n",
    "# Find the product of the elements of two arrays:\n",
    "arr1 = np.array([1, 2, 3, 4])\n",
    "arr2 = np.array([5, 6, 7, 8])\n",
    "\n",
    "x = np.prod([arr1, arr2]) # return: 40320 - 1*2*3*4*5*6*7*8\n",
    "\n",
    "print(x)\n",
    "\n",
    "\n",
    "\n",
    "# Product Over an Axis\n",
    "newarr = np.prod([arr1, arr2], axis = 1)\n",
    "print(newarr) # return: [24 1680]\n",
    "\n",
    "\n",
    "\n",
    "# Cummulative Product\n",
    "arr = np.array([5, 6, 7, 8])\n",
    "\n",
    "newarr = np.cumprod(arr) # return: [   5   30  210 1680]\n",
    "\n",
    "print(newarr)\n",
    "\n",
    "\n",
    "\n"
   ]
  },
  {
   "cell_type": "code",
   "execution_count": 20,
   "metadata": {},
   "outputs": [
    {
     "name": "stdout",
     "output_type": "stream",
     "text": [
      "[  5  10 -20]\n",
      "[  5 -30]\n"
     ]
    }
   ],
   "source": [
    "# NumPy Differences\n",
    "    # To find the discrete difference, use the diff() function.\n",
    "    \n",
    "import numpy as np\n",
    "\n",
    "arr = np.array([10, 15, 25, 5])\n",
    "\n",
    "newarr = np.diff(arr) # Returns: [5 10 -20] because 15-10=5, 25-15=10, and 5-25=-20\n",
    "\n",
    "print(newarr)\n",
    "\n",
    "# We can perform this operation repeatedly by giving parameter n.\n",
    "newarr = np.diff(arr, n = 2)\n",
    "    # Returns: [5 -30] because: 15-10=5, 25-15=10, and 5-25=-20 AND 10-5=5 and -20-10=-30\n",
    "print(newarr)\n",
    "\n"
   ]
  },
  {
   "cell_type": "code",
   "execution_count": 24,
   "metadata": {},
   "outputs": [
    {
     "name": "stdout",
     "output_type": "stream",
     "text": [
      "12\n",
      "18\n",
      "2520\n"
     ]
    }
   ],
   "source": [
    "# NumPy LCM Lowest Common Multiple\n",
    "\n",
    "# Finding LCM (Lowest Common Multiple)\n",
    "\n",
    "import numpy as np\n",
    "\n",
    "num1 = 4\n",
    "num2 = 6\n",
    "\n",
    "x = np.lcm(num1, num2)\n",
    "\n",
    "print(x)\n",
    "\n",
    "\n",
    "# Finding LCM in Arrays\n",
    "    # To find the Lowest Common Multiple of all values in an array, you can use the reduce() method.\n",
    "\n",
    "arr = np.array([3, 6, 9])\n",
    "\n",
    "x = np.lcm.reduce(arr)\n",
    "\n",
    "print(x)\n",
    "\n",
    "\n",
    "\n",
    "# Find the LCM of all of an array where the array contains all integers from 1 to 10:\n",
    "\n",
    "arr = np.arange(1, 11)\n",
    "\n",
    "x = np.lcm.reduce(arr)\n",
    "\n",
    "print(x)"
   ]
  },
  {
   "cell_type": "code",
   "execution_count": 27,
   "metadata": {},
   "outputs": [
    {
     "name": "stdout",
     "output_type": "stream",
     "text": [
      "3\n",
      "4\n"
     ]
    }
   ],
   "source": [
    "# NumPy GCD Greatest Common Denominator\n",
    "\n",
    "    # The GCD (Greatest Common Denominator), also known as HCF (Highest Common Factor)\n",
    "    \n",
    "import numpy as np\n",
    "\n",
    "num1 = 6\n",
    "num2 = 9\n",
    "\n",
    "x = np.gcd(num1, num2)\n",
    "\n",
    "print(x)\n",
    "\n",
    "\n",
    "# Finding GCD in Arrays\n",
    "arr = np.array([20, 8, 32, 36, 16])\n",
    "\n",
    "x = np.gcd.reduce(arr)\n",
    "\n",
    "print(x)"
   ]
  },
  {
   "cell_type": "code",
   "execution_count": 34,
   "metadata": {},
   "outputs": [
    {
     "name": "stdout",
     "output_type": "stream",
     "text": [
      "1.0\n",
      "[1.         0.8660254  0.70710678 0.58778525]\n",
      "[1.57079633 3.14159265 4.71238898 6.28318531]\n",
      "[ 90. 180. 270. 360.]\n",
      "1.5707963267948966\n",
      "[ 1.57079633 -1.57079633  0.10016742]\n",
      "5.0\n"
     ]
    }
   ],
   "source": [
    "# NumPy Trigonometric Functions\n",
    "\n",
    "    # NumPy provides the ufuncs sin(), cos() and tan() that take values in radians and produce\n",
    "    # the corresponding sin, cos and tan values.\n",
    "\n",
    "import numpy as np\n",
    "\n",
    "x = np.sin(np.pi/2)\n",
    "\n",
    "print(x)\n",
    "\n",
    "\n",
    "\n",
    "# Find sine values for all of the values in arr:\n",
    "arr = np.array([np.pi/2, np.pi/3, np.pi/4, np.pi/5])\n",
    "\n",
    "x = np.sin(arr)\n",
    "\n",
    "print(x)\n",
    "\n",
    "\n",
    "\n",
    "# Convert Degrees Into Radians\n",
    "\n",
    "    # By default all of the trigonometric functions take radians as parameters but we can\n",
    "    # convert radians to degrees and vice versa as well in NumP.\n",
    "arr = np.array([90, 180, 270, 360])\n",
    "\n",
    "x = np.deg2rad(arr)\n",
    "\n",
    "print(x)\n",
    "\n",
    "\n",
    "\n",
    "# Radians to Degrees\n",
    "arr = np.array([np.pi/2, np.pi, 1.5*np.pi, 2*np.pi])\n",
    "\n",
    "x = np.rad2deg(arr)\n",
    "\n",
    "print(x)\n",
    "\n",
    "\n",
    "\n",
    "# Finding Angles\n",
    "    # Finding angles from values of sine, cos, tan. E.g. sin, cos and tan inverse (arcsin, arccos, arctan).\n",
    "\n",
    "    # NumPy provides ufuncs arcsin(), arccos() and arctan() that produce radian values for corresponding sin,\n",
    "    # cos and tan values given.\n",
    "    \n",
    "x = np.arcsin(1.0)\n",
    "\n",
    "print(x)\n",
    "\n",
    "\n",
    "\n",
    "# Angles of Each Value in Arrays\n",
    "arr = np.array([1, -1, 0.1])\n",
    "\n",
    "x = np.arcsin(arr)\n",
    "\n",
    "print(x)\n",
    "\n",
    "\n",
    "\n",
    "# Hypotenues\n",
    "    # Finding hypotenues using pythagoras theorem in NumPy.\n",
    "\n",
    "base = 4\n",
    "\n",
    "perp = 3\n",
    "\n",
    "x = np.hypot(base, perp)\n",
    "\n",
    "print(x)"
   ]
  },
  {
   "cell_type": "code",
   "execution_count": 39,
   "metadata": {},
   "outputs": [
    {
     "name": "stdout",
     "output_type": "stream",
     "text": [
      "2.3012989023072947\n",
      "[2.50917848 1.60028686 1.32460909 1.20397209]\n",
      "0.881373587019543\n",
      "[0.10033535 0.20273255 0.54930614]\n"
     ]
    }
   ],
   "source": [
    "# NumPy Hyperbolic Functions\n",
    "\n",
    "    # NumPy provides the ufuncs sinh(), cosh() and tanh() that take values in radians and produce\n",
    "    # the corresponding sinh, cosh and tanh values..\n",
    "    \n",
    "import numpy as np\n",
    "\n",
    "x = np.sinh(np.pi/2)\n",
    "\n",
    "print(x)\n",
    "\n",
    "\n",
    "\n",
    "arr = np.array([np.pi/2, np.pi/3, np.pi/4, np.pi/5])\n",
    "\n",
    "x = np.cosh(arr)\n",
    "\n",
    "print(x)\n",
    "\n",
    "\n",
    "\n",
    "# Finding Angles\n",
    "    # Finding angles from values of hyperbolic sine, cos, tan. E.g. sinh, cosh and tanh inverse (arcsinh, arccosh, arctanh).\n",
    "\n",
    "    # Numpy provides ufuncs arcsinh(), arccosh() and arctanh() that produce radian values for\n",
    "    # corresponding sinh, cosh and tanh values given.\n",
    "    \n",
    "x = np.arcsinh(1.0)\n",
    "\n",
    "print(x)\n",
    "\n",
    "\n",
    "\n",
    "# Angles of Each Value in Arrays\n",
    "arr = np.array([0.1, 0.2, 0.5])\n",
    "\n",
    "x = np.arctanh(arr)\n",
    "\n",
    "print(x)"
   ]
  },
  {
   "cell_type": "code",
   "execution_count": 45,
   "metadata": {},
   "outputs": [
    {
     "name": "stdout",
     "output_type": "stream",
     "text": [
      "[1 2 3 4 5 6 7]\n",
      "[1 2 3 4 5 6]\n",
      "[3 4]\n",
      "[1 2]\n",
      "[1 2 5 6]\n"
     ]
    }
   ],
   "source": [
    "# NumPy Set Operations\n",
    "    # What is a Set\n",
    "    # A set in mathematics is a collection of unique elements.\n",
    "\n",
    "    # Sets are used for operations involving frequent intersection, union and difference operations.\n",
    "    \n",
    "    # Sets are used for operations involving frequent intersection, union and difference operations.\n",
    "    \n",
    "    \n",
    "    \n",
    "# Create Sets in NumPy\n",
    "    # remember that the set arrays should only be 1-D arrays.\n",
    "\n",
    "import numpy as np\n",
    "\n",
    "arr = np.array([1, 1, 1, 2, 3, 4, 5, 5, 6, 7])\n",
    "\n",
    "x = np.unique(arr)\n",
    "\n",
    "print(x)\n",
    "\n",
    "\n",
    "\n",
    "# Finding Union\n",
    "    # To find the unique values of two arrays, use the union1d() method.\n",
    "    \n",
    "arr1 = np.array([1, 2, 3, 4])\n",
    "arr2 = np.array([3, 4, 5, 6])\n",
    "\n",
    "newarr = np.union1d(arr1, arr2)\n",
    "\n",
    "print(newarr)\n",
    "\n",
    "\n",
    "# Note: the intersect1d()/setdiff1d()/setxor1d() method takes an optional argument assume_unique, which if set to \n",
    "# True can speed up computation. It should always be set to True when dealing with sets.\n",
    "\n",
    "\n",
    "# Finding Intersection\n",
    "    # To find only the values that are present in both arrays, use the intersect1d() method.\n",
    "    \n",
    "newarr = np.intersect1d(arr1, arr2, assume_unique=True)\n",
    "\n",
    "print(newarr)\n",
    "\n",
    "\n",
    "# Finding Difference\n",
    "    # To find only the values in the first set that is NOT present in the seconds set, use the setdiff1d() method.\n",
    "newarr = np.setdiff1d(arr1, arr2, assume_unique=True)\n",
    "\n",
    "print(newarr)\n",
    "\n",
    "\n",
    "\n",
    "# Finding Symmetric Difference\n",
    "    # To find only the values that are NOT present in BOTH sets, use the setxor1d() method.\n",
    "newarr = np.setxor1d(arr1, arr2, assume_unique=True)\n",
    "\n",
    "print(newarr)\n"
   ]
  },
  {
   "cell_type": "markdown",
   "metadata": {},
   "source": [
    "# Python for Data Analysis"
   ]
  },
  {
   "cell_type": "markdown",
   "metadata": {},
   "source": [
    "### 4.1 The NumPy ndarray: A Multidimensional Array Object"
   ]
  },
  {
   "cell_type": "markdown",
   "metadata": {},
   "source": [
    "Arrays enable you to\n",
    "perform mathematical operations on whole blocks of data using similar syntax to the\n",
    "equivalent operations between scalar elements\n"
   ]
  },
  {
   "cell_type": "code",
   "execution_count": 1,
   "metadata": {},
   "outputs": [
    {
     "name": "stdout",
     "output_type": "stream",
     "text": [
      "[[ 1.15559923 -0.49715522 -0.95563034]\n",
      " [ 1.11733776  0.07083489  0.9459203 ]]\n"
     ]
    },
    {
     "data": {
      "text/plain": [
       "array([[ 2.31119845, -0.99431045, -1.91126069],\n",
       "       [ 2.23467551,  0.14166978,  1.8918406 ]])"
      ]
     },
     "execution_count": 1,
     "metadata": {},
     "output_type": "execute_result"
    }
   ],
   "source": [
    "\n",
    "import numpy as np\n",
    "data = np.random.randn(2,3)\n",
    "print(data)\n",
    "data*10\n",
    "data+data"
   ]
  },
  {
   "cell_type": "code",
   "execution_count": 2,
   "metadata": {},
   "outputs": [
    {
     "data": {
      "text/plain": [
       "dtype('float64')"
      ]
     },
     "execution_count": 2,
     "metadata": {},
     "output_type": "execute_result"
    }
   ],
   "source": [
    "data.shape\n",
    "data.dtype"
   ]
  },
  {
   "cell_type": "markdown",
   "metadata": {},
   "source": [
    "ARRAY:\n",
    "\n",
    "An ordered sequence of values, stored such that you can easily access \n",
    "any of the values using an integer subscript that specifies the value’s offset in the sequence.\n"
   ]
  },
  {
   "cell_type": "code",
   "execution_count": 4,
   "metadata": {},
   "outputs": [
    {
     "data": {
      "text/plain": [
       "array([[1, 2, 3, 4],\n",
       "       [5, 6, 7, 8]])"
      ]
     },
     "execution_count": 4,
     "metadata": {},
     "output_type": "execute_result"
    }
   ],
   "source": [
    "data1 = [6, 7.5, 8, 0, 1]\n",
    "arr1 = np.array(data1)\n",
    "\n",
    "data2 = [[1, 2, 3, 4], [5, 6, 7, 8]]\n",
    "arr2 = np.array(data2)\n",
    "arr2"
   ]
  },
  {
   "cell_type": "code",
   "execution_count": 5,
   "metadata": {},
   "outputs": [
    {
     "data": {
      "text/plain": [
       "2"
      ]
     },
     "execution_count": 5,
     "metadata": {},
     "output_type": "execute_result"
    }
   ],
   "source": [
    "# Analyse\n",
    "arr2.ndim\n",
    "\n",
    "arr2.shape\n",
    "\n",
    "arr2.dtype"
   ]
  },
  {
   "cell_type": "code",
   "execution_count": 7,
   "metadata": {},
   "outputs": [
    {
     "data": {
      "text/plain": [
       "array([[[1.49339322e-311, 3.16202013e-322],\n",
       "        [0.00000000e+000, 0.00000000e+000],\n",
       "        [0.00000000e+000, 3.34501915e-061]],\n",
       "\n",
       "       [[9.90075948e+164, 3.40573004e+175],\n",
       "        [5.48976574e+174, 1.86221096e+160],\n",
       "        [1.09685146e-071, 8.16467371e-043]]])"
      ]
     },
     "execution_count": 7,
     "metadata": {},
     "output_type": "execute_result"
    }
   ],
   "source": [
    "np.zeros(10)\n",
    "\n",
    "np.zeros((3, 6))\n",
    "\n",
    "np.empty((2, 3, 2)) # it may return uninitialized 'garbage' values;"
   ]
  },
  {
   "cell_type": "code",
   "execution_count": 8,
   "metadata": {},
   "outputs": [
    {
     "data": {
      "text/plain": [
       "array([ 0,  1,  2,  3,  4,  5,  6,  7,  8,  9, 10, 11, 12, 13, 14])"
      ]
     },
     "execution_count": 8,
     "metadata": {},
     "output_type": "execute_result"
    }
   ],
   "source": [
    "# arange  is an array-valued version of the built-in Python  range  function:\n",
    "np.arange(15)"
   ]
  },
  {
   "cell_type": "code",
   "execution_count": 9,
   "metadata": {},
   "outputs": [],
   "source": [
    "# Data Types for ndarrays\n",
    "arr1 = np.array([1, 2, 3], dtype=np.float64)\n",
    "arr2 = np.array([1, 2, 3], dtype=np.int32)\n"
   ]
  },
  {
   "cell_type": "code",
   "execution_count": 10,
   "metadata": {},
   "outputs": [],
   "source": [
    "# Casting - astype\n",
    "arr = np.array([1, 2, 3, 4, 5])\n",
    "\n",
    "float_arr = arr.astype(np.float64)"
   ]
  },
  {
   "cell_type": "markdown",
   "metadata": {},
   "source": [
    "Arithmetic with NumPy Arrays\n",
    "\n",
    " they  enable  you  to  express  batch  operations  on  data\n",
    "without writing any  for  loops. NumPy users call this vectorization.\n",
    "\n",
    "\n",
    "As NumPy has been\n",
    "designed to be able to work with very large arrays,"
   ]
  },
  {
   "cell_type": "code",
   "execution_count": 15,
   "metadata": {},
   "outputs": [
    {
     "data": {
      "text/plain": [
       "array([[ True, False,  True],\n",
       "       [False,  True, False]])"
      ]
     },
     "execution_count": 15,
     "metadata": {},
     "output_type": "execute_result"
    }
   ],
   "source": [
    "\n",
    "arr = np.array([[1., 2., 3.], [4., 5., 6.]])\n",
    "\n",
    "arr*arr\n",
    "\n",
    "# Arithmetic operations with scalars propagate the scalar argument to each element in the array:\n",
    "\n",
    "1 / arr\n",
    "arr ** 0.5\n",
    "\n",
    "\n",
    "arr2 = np.array([[0., 4., 1.], [7., 2., 12.]])\n",
    "arr > arr2\n",
    "\n",
    "# Broadcasting - operations between differently sized arrays."
   ]
  },
  {
   "cell_type": "code",
   "execution_count": 18,
   "metadata": {},
   "outputs": [
    {
     "name": "stdout",
     "output_type": "stream",
     "text": [
      "[ 0  1  2  3  4 12 12 12  8  9]\n",
      "[    0     1     2     3     4    12 12345    12     8     9]\n",
      "[    0     1     2     3     4    12 12345    12     8     9]\n"
     ]
    }
   ],
   "source": [
    "# Basic Indexing and Slicing\n",
    "# If you assign a scalar value to a slice, as in  arr[5:8] = 12 , the value is\n",
    "# propagated (or broadcasted henceforth) to the entire selection.\n",
    "\n",
    "arr = np.arange(10)\n",
    "\n",
    "arr[5:8] = 12\n",
    "\n",
    "print(arr)\n",
    "\n",
    "# array slices are views on the original array.\n",
    "arr_slice = arr[5:8]\n",
    "\n",
    "arr_slice[1] = 12345\n",
    "\n",
    "print(arr)\n",
    "\n",
    "# The “bare” slice  [:]  will assign to all values in an array:\n",
    "print(arr[:])"
   ]
  },
  {
   "cell_type": "code",
   "execution_count": 22,
   "metadata": {},
   "outputs": [
    {
     "name": "stdout",
     "output_type": "stream",
     "text": [
      "[7 8 9]\n",
      "3\n",
      "2\n"
     ]
    }
   ],
   "source": [
    "arr2d = np.array([[1, 2, 3], [4, 5, 6], [7, 8, 9]])\n",
    "print(arr2d[2])\n",
    "\n",
    "print(arr2d[0][2])\n",
    "\n",
    "print(arr2d[0, 1])"
   ]
  },
  {
   "attachments": {
    "image.png": {
     "image/png": "[encoded data removed]"
    }
   },
   "cell_type": "markdown",
   "metadata": {},
   "source": [
    "![image.png](attachment:image.png)"
   ]
  },
  {
   "attachments": {
    "image.png": {
     "image/png": "[encoded data removed]"
    }
   },
   "cell_type": "markdown",
   "metadata": {},
   "source": [
    "![image.png](attachment:image.png)"
   ]
  },
  {
   "cell_type": "markdown",
   "metadata": {},
   "source": [
    "### Boolean Indexing"
   ]
  },
  {
   "cell_type": "code",
   "execution_count": 4,
   "metadata": {},
   "outputs": [
    {
     "name": "stdout",
     "output_type": "stream",
     "text": [
      "['Bob' 'Joe' 'Will' 'Bob' 'Will' 'Joe' 'Joe'] \n",
      "\n",
      "[[ 0.3934802   0.31286928  0.94800183  0.05792526]\n",
      " [ 0.43427084  0.42397173 -1.62385749  0.1120775 ]\n",
      " [-0.78279169  0.74989276  2.17363419  0.10163101]\n",
      " [ 0.68480325  0.36298819 -1.34828764 -0.60317625]\n",
      " [ 0.33221658  1.1502776  -0.78323472  0.20934866]\n",
      " [ 0.48256639  1.37232604 -0.35738995 -0.0151016 ]\n",
      " [-2.18027585  1.88800509  1.09504512  1.15272814]]\n"
     ]
    }
   ],
   "source": [
    "names = np.array(['Bob', 'Joe', 'Will', 'Bob', 'Will', 'Joe', 'Joe'])\n",
    "\n",
    "data = np.random.randn(7, 4)\n",
    "\n",
    "print(names , '\\n')\n",
    "\n",
    "print(data)"
   ]
  },
  {
   "cell_type": "code",
   "execution_count": 5,
   "metadata": {},
   "outputs": [
    {
     "data": {
      "text/plain": [
       "array([[ 0.3934802 ,  0.31286928,  0.94800183,  0.05792526],\n",
       "       [ 0.68480325,  0.36298819, -1.34828764, -0.60317625]])"
      ]
     },
     "execution_count": 5,
     "metadata": {},
     "output_type": "execute_result"
    }
   ],
   "source": [
    "data[names == 'Bob']"
   ]
  },
  {
   "cell_type": "code",
   "execution_count": 6,
   "metadata": {},
   "outputs": [
    {
     "data": {
      "text/plain": [
       "array([[ 0.94800183,  0.05792526],\n",
       "       [-1.34828764, -0.60317625]])"
      ]
     },
     "execution_count": 6,
     "metadata": {},
     "output_type": "execute_result"
    }
   ],
   "source": [
    "#  I select from the rows where  names == 'Bob'  and index the columns too\n",
    "data[names == 'Bob', 2:]"
   ]
  },
  {
   "cell_type": "code",
   "execution_count": 7,
   "metadata": {},
   "outputs": [
    {
     "data": {
      "text/plain": [
       "array([[ 0.43427084,  0.42397173, -1.62385749,  0.1120775 ],\n",
       "       [-0.78279169,  0.74989276,  2.17363419,  0.10163101],\n",
       "       [ 0.33221658,  1.1502776 , -0.78323472,  0.20934866],\n",
       "       [ 0.48256639,  1.37232604, -0.35738995, -0.0151016 ],\n",
       "       [-2.18027585,  1.88800509,  1.09504512,  1.15272814]])"
      ]
     },
     "execution_count": 7,
     "metadata": {},
     "output_type": "execute_result"
    }
   ],
   "source": [
    "# you can either use  !=  or negate the condition using  ~ :\n",
    "data[~(names == 'Bob')]\n",
    "\n",
    "118"
   ]
  },
  {
   "cell_type": "code",
   "execution_count": 8,
   "metadata": {},
   "outputs": [
    {
     "data": {
      "text/plain": [
       "array([ True, False,  True,  True,  True, False, False])"
      ]
     },
     "execution_count": 8,
     "metadata": {},
     "output_type": "execute_result"
    }
   ],
   "source": [
    "# use boolean arithmetic operators like  &  (and) and  |  (or):\n",
    "mask = (names == 'Bob') | (names == 'Will')\n",
    "mask"
   ]
  },
  {
   "cell_type": "code",
   "execution_count": 10,
   "metadata": {},
   "outputs": [
    {
     "data": {
      "text/plain": [
       "array([[0.3934802 , 0.31286928, 0.94800183, 0.05792526],\n",
       "       [0.43427084, 0.42397173, 0.        , 0.1120775 ],\n",
       "       [0.        , 0.74989276, 2.17363419, 0.10163101],\n",
       "       [0.68480325, 0.36298819, 0.        , 0.        ],\n",
       "       [0.33221658, 1.1502776 , 0.        , 0.20934866],\n",
       "       [0.48256639, 1.37232604, 0.        , 0.        ],\n",
       "       [0.        , 1.88800509, 1.09504512, 1.15272814]])"
      ]
     },
     "execution_count": 10,
     "metadata": {},
     "output_type": "execute_result"
    }
   ],
   "source": [
    "data[data < 0] = 0\n",
    "data"
   ]
  },
  {
   "cell_type": "markdown",
   "metadata": {},
   "source": [
    "### arr[line, column] or arr[line]"
   ]
  },
  {
   "cell_type": "code",
   "execution_count": 11,
   "metadata": {},
   "outputs": [],
   "source": [
    "# Fancy Indexing\n",
    "\n",
    "arr = np.empty((8, 4))\n",
    "\n",
    "for i in range(8):\n",
    "    arr[i] = i"
   ]
  },
  {
   "cell_type": "code",
   "execution_count": 12,
   "metadata": {},
   "outputs": [
    {
     "data": {
      "text/plain": [
       "array([[0., 0., 0., 0.],\n",
       "       [1., 1., 1., 1.],\n",
       "       [2., 2., 2., 2.],\n",
       "       [3., 3., 3., 3.],\n",
       "       [4., 4., 4., 4.],\n",
       "       [5., 5., 5., 5.],\n",
       "       [6., 6., 6., 6.],\n",
       "       [7., 7., 7., 7.]])"
      ]
     },
     "execution_count": 12,
     "metadata": {},
     "output_type": "execute_result"
    }
   ],
   "source": [
    "arr"
   ]
  },
  {
   "cell_type": "code",
   "execution_count": 13,
   "metadata": {},
   "outputs": [
    {
     "data": {
      "text/plain": [
       "array([[3., 3., 3., 3.],\n",
       "       [4., 4., 4., 4.],\n",
       "       [0., 0., 0., 0.],\n",
       "       [6., 6., 6., 6.]])"
      ]
     },
     "execution_count": 13,
     "metadata": {},
     "output_type": "execute_result"
    }
   ],
   "source": [
    "# To select out a subset of the rows in a particular order,\n",
    "arr[[3, 4, 0, 6]]"
   ]
  },
  {
   "cell_type": "code",
   "execution_count": 14,
   "metadata": {},
   "outputs": [
    {
     "data": {
      "text/plain": [
       "array([[5., 5., 5., 5.],\n",
       "       [3., 3., 3., 3.],\n",
       "       [1., 1., 1., 1.]])"
      ]
     },
     "execution_count": 14,
     "metadata": {},
     "output_type": "execute_result"
    }
   ],
   "source": [
    "# Using negative indices selects rows from the end\n",
    "arr[[-3, -5, -7]]"
   ]
  },
  {
   "cell_type": "code",
   "execution_count": 15,
   "metadata": {},
   "outputs": [
    {
     "name": "stdout",
     "output_type": "stream",
     "text": [
      "[[ 0  1  2  3]\n",
      " [ 4  5  6  7]\n",
      " [ 8  9 10 11]\n",
      " [12 13 14 15]\n",
      " [16 17 18 19]\n",
      " [20 21 22 23]\n",
      " [24 25 26 27]\n",
      " [28 29 30 31]] \n",
      "\n"
     ]
    },
    {
     "data": {
      "text/plain": [
       "array([ 4, 23, 29, 10])"
      ]
     },
     "execution_count": 15,
     "metadata": {},
     "output_type": "execute_result"
    }
   ],
   "source": [
    "# Passing  multiple  index  arrays \n",
    "arr = np.arange(32).reshape((8, 4))\n",
    "print(arr, '\\n')\n",
    "\n",
    "arr[[1, 5, 7, 2],[0, 3, 1, 2]]"
   ]
  },
  {
   "cell_type": "markdown",
   "metadata": {},
   "source": [
    "### Transposing Arrays and Swapping Axes"
   ]
  },
  {
   "cell_type": "code",
   "execution_count": 16,
   "metadata": {},
   "outputs": [
    {
     "data": {
      "text/plain": [
       "array([[125, 140, 155, 170, 185],\n",
       "       [140, 158, 176, 194, 212],\n",
       "       [155, 176, 197, 218, 239],\n",
       "       [170, 194, 218, 242, 266],\n",
       "       [185, 212, 239, 266, 293]])"
      ]
     },
     "execution_count": 16,
     "metadata": {},
     "output_type": "execute_result"
    }
   ],
   "source": [
    "arr = np.arange(15).reshape((3, 5))\n",
    "\n",
    "arr.T\n",
    "\n",
    "# computing the inner matrix product using  np.dot :\n",
    "np.dot(arr.T, arr)"
   ]
  },
  {
   "cell_type": "markdown",
   "metadata": {},
   "source": [
    "Simple transposing with  .T  is a special case of swapping axes. ndarray has the method\n",
    "swapaxes , which takes a pair of axis numbers and switches the indicated axes to rear‐\n",
    "range the data:\n"
   ]
  },
  {
   "cell_type": "code",
   "execution_count": 18,
   "metadata": {},
   "outputs": [
    {
     "data": {
      "text/plain": [
       "array([[[ 0,  1,  2,  3],\n",
       "        [ 4,  5,  6,  7]],\n",
       "\n",
       "       [[ 8,  9, 10, 11],\n",
       "        [12, 13, 14, 15]]])"
      ]
     },
     "execution_count": 18,
     "metadata": {},
     "output_type": "execute_result"
    }
   ],
   "source": [
    "\n",
    "arr = np.arange(16).reshape((2, 2, 4))\n",
    "arr"
   ]
  },
  {
   "cell_type": "code",
   "execution_count": 19,
   "metadata": {},
   "outputs": [
    {
     "data": {
      "text/plain": [
       "array([[[ 0,  4],\n",
       "        [ 1,  5],\n",
       "        [ 2,  6],\n",
       "        [ 3,  7]],\n",
       "\n",
       "       [[ 8, 12],\n",
       "        [ 9, 13],\n",
       "        [10, 14],\n",
       "        [11, 15]]])"
      ]
     },
     "execution_count": 19,
     "metadata": {},
     "output_type": "execute_result"
    }
   ],
   "source": [
    "arr.swapaxes(1, 2)"
   ]
  },
  {
   "cell_type": "markdown",
   "metadata": {},
   "source": [
    "### 4.2 Universal Functions: Fast Element-Wise Array Functions\n",
    "\n",
    "A universal function, or ufunc, is a function that performs element-wise operations\n",
    "on data in ndarrays. \n"
   ]
  },
  {
   "cell_type": "code",
   "execution_count": 20,
   "metadata": {},
   "outputs": [
    {
     "data": {
      "text/plain": [
       "array([0, 1, 2, 3, 4, 5, 6, 7, 8, 9])"
      ]
     },
     "execution_count": 20,
     "metadata": {},
     "output_type": "execute_result"
    }
   ],
   "source": [
    "arr = np.arange(10)\n",
    "arr"
   ]
  },
  {
   "cell_type": "code",
   "execution_count": 22,
   "metadata": {},
   "outputs": [
    {
     "data": {
      "text/plain": [
       "array([0.        , 1.        , 1.41421356, 1.73205081, 2.        ,\n",
       "       2.23606798, 2.44948974, 2.64575131, 2.82842712, 3.        ])"
      ]
     },
     "execution_count": 22,
     "metadata": {},
     "output_type": "execute_result"
    }
   ],
   "source": [
    "np.sqrt(arr)"
   ]
  },
  {
   "cell_type": "code",
   "execution_count": 23,
   "metadata": {},
   "outputs": [
    {
     "data": {
      "text/plain": [
       "array([1.00000000e+00, 2.71828183e+00, 7.38905610e+00, 2.00855369e+01,\n",
       "       5.45981500e+01, 1.48413159e+02, 4.03428793e+02, 1.09663316e+03,\n",
       "       2.98095799e+03, 8.10308393e+03])"
      ]
     },
     "execution_count": 23,
     "metadata": {},
     "output_type": "execute_result"
    }
   ],
   "source": [
    "np.exp(arr)"
   ]
  },
  {
   "cell_type": "code",
   "execution_count": 26,
   "metadata": {},
   "outputs": [
    {
     "name": "stdout",
     "output_type": "stream",
     "text": [
      "[ 0.08726457  0.53804353 -0.0813693  -0.08487136  0.40649947 -0.35191183\n",
      " -1.02751639 -0.57022094] \n",
      " [ 0.48830408  0.53904421  1.13546613  0.49364936  0.20136118 -1.19666506\n",
      " -1.97358566 -0.48378124]\n"
     ]
    }
   ],
   "source": [
    "x = np.random.randn(8)\n",
    "y = np.random.randn(8)\n",
    "\n",
    "print(x, '\\n', y)"
   ]
  },
  {
   "cell_type": "code",
   "execution_count": 27,
   "metadata": {},
   "outputs": [
    {
     "data": {
      "text/plain": [
       "array([ 0.48830408,  0.53904421,  1.13546613,  0.49364936,  0.40649947,\n",
       "       -0.35191183, -1.02751639, -0.48378124])"
      ]
     },
     "execution_count": 27,
     "metadata": {},
     "output_type": "execute_result"
    }
   ],
   "source": [
    "np.maximum(x, y)"
   ]
  },
  {
   "cell_type": "code",
   "execution_count": 28,
   "metadata": {},
   "outputs": [
    {
     "data": {
      "text/plain": [
       "array([ 1.61330521,  0.41809442, -0.13287164, -5.3934386 , -1.63456142,\n",
       "       -0.99669484, -0.97590286])"
      ]
     },
     "execution_count": 28,
     "metadata": {},
     "output_type": "execute_result"
    }
   ],
   "source": [
    "#  a ufunc can return multiple arrays\n",
    "arr = np.random.randn(7) * 5\n",
    "arr"
   ]
  },
  {
   "cell_type": "code",
   "execution_count": 29,
   "metadata": {},
   "outputs": [
    {
     "name": "stdout",
     "output_type": "stream",
     "text": [
      "[ 0.61330521  0.41809442 -0.13287164 -0.3934386  -0.63456142 -0.99669484\n",
      " -0.97590286] \n",
      " [ 1.  0. -0. -5. -1. -0. -0.]\n"
     ]
    }
   ],
   "source": [
    "# Python  divmod ; it returns the fractional and integral parts of a floating-point array:\n",
    "\n",
    "remainder, whole_part = np.modf(arr)\n",
    "print(remainder, '\\n', whole_part)"
   ]
  },
  {
   "cell_type": "markdown",
   "metadata": {},
   "source": [
    "    This practice of replacing explicit loops with array expressions is commonly referred to as vectorization."
   ]
  },
  {
   "cell_type": "markdown",
   "metadata": {},
   "source": [
    "### 4.3 Array-Oriented Programming with Arrays"
   ]
  },
  {
   "cell_type": "markdown",
   "metadata": {},
   "source": [
    "we wished to evaluate the function  sqrt(x^2 + y^2)\n",
    "across a regular grid of values. The  np.meshgrid  function takes two 1D arrays and\n",
    "produces two 2D matrices corresponding to all pairs of  (x, y)  in the two arrays:"
   ]
  },
  {
   "cell_type": "code",
   "execution_count": 34,
   "metadata": {
    "collapsed": true
   },
   "outputs": [
    {
     "data": {
      "text/plain": [
       "array([-5.0000000e+00, -4.9900000e+00, -4.9800000e+00, -4.9700000e+00,\n",
       "       -4.9600000e+00, -4.9500000e+00, -4.9400000e+00, -4.9300000e+00,\n",
       "       -4.9200000e+00, -4.9100000e+00, -4.9000000e+00, -4.8900000e+00,\n",
       "       -4.8800000e+00, -4.8700000e+00, -4.8600000e+00, -4.8500000e+00,\n",
       "       -4.8400000e+00, -4.8300000e+00, -4.8200000e+00, -4.8100000e+00,\n",
       "       -4.8000000e+00, -4.7900000e+00, -4.7800000e+00, -4.7700000e+00,\n",
       "       -4.7600000e+00, -4.7500000e+00, -4.7400000e+00, -4.7300000e+00,\n",
       "       -4.7200000e+00, -4.7100000e+00, -4.7000000e+00, -4.6900000e+00,\n",
       "       -4.6800000e+00, -4.6700000e+00, -4.6600000e+00, -4.6500000e+00,\n",
       "       -4.6400000e+00, -4.6300000e+00, -4.6200000e+00, -4.6100000e+00,\n",
       "       -4.6000000e+00, -4.5900000e+00, -4.5800000e+00, -4.5700000e+00,\n",
       "       -4.5600000e+00, -4.5500000e+00, -4.5400000e+00, -4.5300000e+00,\n",
       "       -4.5200000e+00, -4.5100000e+00, -4.5000000e+00, -4.4900000e+00,\n",
       "       -4.4800000e+00, -4.4700000e+00, -4.4600000e+00, -4.4500000e+00,\n",
       "       -4.4400000e+00, -4.4300000e+00, -4.4200000e+00, -4.4100000e+00,\n",
       "       -4.4000000e+00, -4.3900000e+00, -4.3800000e+00, -4.3700000e+00,\n",
       "       -4.3600000e+00, -4.3500000e+00, -4.3400000e+00, -4.3300000e+00,\n",
       "       -4.3200000e+00, -4.3100000e+00, -4.3000000e+00, -4.2900000e+00,\n",
       "       -4.2800000e+00, -4.2700000e+00, -4.2600000e+00, -4.2500000e+00,\n",
       "       -4.2400000e+00, -4.2300000e+00, -4.2200000e+00, -4.2100000e+00,\n",
       "       -4.2000000e+00, -4.1900000e+00, -4.1800000e+00, -4.1700000e+00,\n",
       "       -4.1600000e+00, -4.1500000e+00, -4.1400000e+00, -4.1300000e+00,\n",
       "       -4.1200000e+00, -4.1100000e+00, -4.1000000e+00, -4.0900000e+00,\n",
       "       -4.0800000e+00, -4.0700000e+00, -4.0600000e+00, -4.0500000e+00,\n",
       "       -4.0400000e+00, -4.0300000e+00, -4.0200000e+00, -4.0100000e+00,\n",
       "       -4.0000000e+00, -3.9900000e+00, -3.9800000e+00, -3.9700000e+00,\n",
       "       -3.9600000e+00, -3.9500000e+00, -3.9400000e+00, -3.9300000e+00,\n",
       "       -3.9200000e+00, -3.9100000e+00, -3.9000000e+00, -3.8900000e+00,\n",
       "       -3.8800000e+00, -3.8700000e+00, -3.8600000e+00, -3.8500000e+00,\n",
       "       -3.8400000e+00, -3.8300000e+00, -3.8200000e+00, -3.8100000e+00,\n",
       "       -3.8000000e+00, -3.7900000e+00, -3.7800000e+00, -3.7700000e+00,\n",
       "       -3.7600000e+00, -3.7500000e+00, -3.7400000e+00, -3.7300000e+00,\n",
       "       -3.7200000e+00, -3.7100000e+00, -3.7000000e+00, -3.6900000e+00,\n",
       "       -3.6800000e+00, -3.6700000e+00, -3.6600000e+00, -3.6500000e+00,\n",
       "       -3.6400000e+00, -3.6300000e+00, -3.6200000e+00, -3.6100000e+00,\n",
       "       -3.6000000e+00, -3.5900000e+00, -3.5800000e+00, -3.5700000e+00,\n",
       "       -3.5600000e+00, -3.5500000e+00, -3.5400000e+00, -3.5300000e+00,\n",
       "       -3.5200000e+00, -3.5100000e+00, -3.5000000e+00, -3.4900000e+00,\n",
       "       -3.4800000e+00, -3.4700000e+00, -3.4600000e+00, -3.4500000e+00,\n",
       "       -3.4400000e+00, -3.4300000e+00, -3.4200000e+00, -3.4100000e+00,\n",
       "       -3.4000000e+00, -3.3900000e+00, -3.3800000e+00, -3.3700000e+00,\n",
       "       -3.3600000e+00, -3.3500000e+00, -3.3400000e+00, -3.3300000e+00,\n",
       "       -3.3200000e+00, -3.3100000e+00, -3.3000000e+00, -3.2900000e+00,\n",
       "       -3.2800000e+00, -3.2700000e+00, -3.2600000e+00, -3.2500000e+00,\n",
       "       -3.2400000e+00, -3.2300000e+00, -3.2200000e+00, -3.2100000e+00,\n",
       "       -3.2000000e+00, -3.1900000e+00, -3.1800000e+00, -3.1700000e+00,\n",
       "       -3.1600000e+00, -3.1500000e+00, -3.1400000e+00, -3.1300000e+00,\n",
       "       -3.1200000e+00, -3.1100000e+00, -3.1000000e+00, -3.0900000e+00,\n",
       "       -3.0800000e+00, -3.0700000e+00, -3.0600000e+00, -3.0500000e+00,\n",
       "       -3.0400000e+00, -3.0300000e+00, -3.0200000e+00, -3.0100000e+00,\n",
       "       -3.0000000e+00, -2.9900000e+00, -2.9800000e+00, -2.9700000e+00,\n",
       "       -2.9600000e+00, -2.9500000e+00, -2.9400000e+00, -2.9300000e+00,\n",
       "       -2.9200000e+00, -2.9100000e+00, -2.9000000e+00, -2.8900000e+00,\n",
       "       -2.8800000e+00, -2.8700000e+00, -2.8600000e+00, -2.8500000e+00,\n",
       "       -2.8400000e+00, -2.8300000e+00, -2.8200000e+00, -2.8100000e+00,\n",
       "       -2.8000000e+00, -2.7900000e+00, -2.7800000e+00, -2.7700000e+00,\n",
       "       -2.7600000e+00, -2.7500000e+00, -2.7400000e+00, -2.7300000e+00,\n",
       "       -2.7200000e+00, -2.7100000e+00, -2.7000000e+00, -2.6900000e+00,\n",
       "       -2.6800000e+00, -2.6700000e+00, -2.6600000e+00, -2.6500000e+00,\n",
       "       -2.6400000e+00, -2.6300000e+00, -2.6200000e+00, -2.6100000e+00,\n",
       "       -2.6000000e+00, -2.5900000e+00, -2.5800000e+00, -2.5700000e+00,\n",
       "       -2.5600000e+00, -2.5500000e+00, -2.5400000e+00, -2.5300000e+00,\n",
       "       -2.5200000e+00, -2.5100000e+00, -2.5000000e+00, -2.4900000e+00,\n",
       "       -2.4800000e+00, -2.4700000e+00, -2.4600000e+00, -2.4500000e+00,\n",
       "       -2.4400000e+00, -2.4300000e+00, -2.4200000e+00, -2.4100000e+00,\n",
       "       -2.4000000e+00, -2.3900000e+00, -2.3800000e+00, -2.3700000e+00,\n",
       "       -2.3600000e+00, -2.3500000e+00, -2.3400000e+00, -2.3300000e+00,\n",
       "       -2.3200000e+00, -2.3100000e+00, -2.3000000e+00, -2.2900000e+00,\n",
       "       -2.2800000e+00, -2.2700000e+00, -2.2600000e+00, -2.2500000e+00,\n",
       "       -2.2400000e+00, -2.2300000e+00, -2.2200000e+00, -2.2100000e+00,\n",
       "       -2.2000000e+00, -2.1900000e+00, -2.1800000e+00, -2.1700000e+00,\n",
       "       -2.1600000e+00, -2.1500000e+00, -2.1400000e+00, -2.1300000e+00,\n",
       "       -2.1200000e+00, -2.1100000e+00, -2.1000000e+00, -2.0900000e+00,\n",
       "       -2.0800000e+00, -2.0700000e+00, -2.0600000e+00, -2.0500000e+00,\n",
       "       -2.0400000e+00, -2.0300000e+00, -2.0200000e+00, -2.0100000e+00,\n",
       "       -2.0000000e+00, -1.9900000e+00, -1.9800000e+00, -1.9700000e+00,\n",
       "       -1.9600000e+00, -1.9500000e+00, -1.9400000e+00, -1.9300000e+00,\n",
       "       -1.9200000e+00, -1.9100000e+00, -1.9000000e+00, -1.8900000e+00,\n",
       "       -1.8800000e+00, -1.8700000e+00, -1.8600000e+00, -1.8500000e+00,\n",
       "       -1.8400000e+00, -1.8300000e+00, -1.8200000e+00, -1.8100000e+00,\n",
       "       -1.8000000e+00, -1.7900000e+00, -1.7800000e+00, -1.7700000e+00,\n",
       "       -1.7600000e+00, -1.7500000e+00, -1.7400000e+00, -1.7300000e+00,\n",
       "       -1.7200000e+00, -1.7100000e+00, -1.7000000e+00, -1.6900000e+00,\n",
       "       -1.6800000e+00, -1.6700000e+00, -1.6600000e+00, -1.6500000e+00,\n",
       "       -1.6400000e+00, -1.6300000e+00, -1.6200000e+00, -1.6100000e+00,\n",
       "       -1.6000000e+00, -1.5900000e+00, -1.5800000e+00, -1.5700000e+00,\n",
       "       -1.5600000e+00, -1.5500000e+00, -1.5400000e+00, -1.5300000e+00,\n",
       "       -1.5200000e+00, -1.5100000e+00, -1.5000000e+00, -1.4900000e+00,\n",
       "       -1.4800000e+00, -1.4700000e+00, -1.4600000e+00, -1.4500000e+00,\n",
       "       -1.4400000e+00, -1.4300000e+00, -1.4200000e+00, -1.4100000e+00,\n",
       "       -1.4000000e+00, -1.3900000e+00, -1.3800000e+00, -1.3700000e+00,\n",
       "       -1.3600000e+00, -1.3500000e+00, -1.3400000e+00, -1.3300000e+00,\n",
       "       -1.3200000e+00, -1.3100000e+00, -1.3000000e+00, -1.2900000e+00,\n",
       "       -1.2800000e+00, -1.2700000e+00, -1.2600000e+00, -1.2500000e+00,\n",
       "       -1.2400000e+00, -1.2300000e+00, -1.2200000e+00, -1.2100000e+00,\n",
       "       -1.2000000e+00, -1.1900000e+00, -1.1800000e+00, -1.1700000e+00,\n",
       "       -1.1600000e+00, -1.1500000e+00, -1.1400000e+00, -1.1300000e+00,\n",
       "       -1.1200000e+00, -1.1100000e+00, -1.1000000e+00, -1.0900000e+00,\n",
       "       -1.0800000e+00, -1.0700000e+00, -1.0600000e+00, -1.0500000e+00,\n",
       "       -1.0400000e+00, -1.0300000e+00, -1.0200000e+00, -1.0100000e+00,\n",
       "       -1.0000000e+00, -9.9000000e-01, -9.8000000e-01, -9.7000000e-01,\n",
       "       -9.6000000e-01, -9.5000000e-01, -9.4000000e-01, -9.3000000e-01,\n",
       "       -9.2000000e-01, -9.1000000e-01, -9.0000000e-01, -8.9000000e-01,\n",
       "       -8.8000000e-01, -8.7000000e-01, -8.6000000e-01, -8.5000000e-01,\n",
       "       -8.4000000e-01, -8.3000000e-01, -8.2000000e-01, -8.1000000e-01,\n",
       "       -8.0000000e-01, -7.9000000e-01, -7.8000000e-01, -7.7000000e-01,\n",
       "       -7.6000000e-01, -7.5000000e-01, -7.4000000e-01, -7.3000000e-01,\n",
       "       -7.2000000e-01, -7.1000000e-01, -7.0000000e-01, -6.9000000e-01,\n",
       "       -6.8000000e-01, -6.7000000e-01, -6.6000000e-01, -6.5000000e-01,\n",
       "       -6.4000000e-01, -6.3000000e-01, -6.2000000e-01, -6.1000000e-01,\n",
       "       -6.0000000e-01, -5.9000000e-01, -5.8000000e-01, -5.7000000e-01,\n",
       "       -5.6000000e-01, -5.5000000e-01, -5.4000000e-01, -5.3000000e-01,\n",
       "       -5.2000000e-01, -5.1000000e-01, -5.0000000e-01, -4.9000000e-01,\n",
       "       -4.8000000e-01, -4.7000000e-01, -4.6000000e-01, -4.5000000e-01,\n",
       "       -4.4000000e-01, -4.3000000e-01, -4.2000000e-01, -4.1000000e-01,\n",
       "       -4.0000000e-01, -3.9000000e-01, -3.8000000e-01, -3.7000000e-01,\n",
       "       -3.6000000e-01, -3.5000000e-01, -3.4000000e-01, -3.3000000e-01,\n",
       "       -3.2000000e-01, -3.1000000e-01, -3.0000000e-01, -2.9000000e-01,\n",
       "       -2.8000000e-01, -2.7000000e-01, -2.6000000e-01, -2.5000000e-01,\n",
       "       -2.4000000e-01, -2.3000000e-01, -2.2000000e-01, -2.1000000e-01,\n",
       "       -2.0000000e-01, -1.9000000e-01, -1.8000000e-01, -1.7000000e-01,\n",
       "       -1.6000000e-01, -1.5000000e-01, -1.4000000e-01, -1.3000000e-01,\n",
       "       -1.2000000e-01, -1.1000000e-01, -1.0000000e-01, -9.0000000e-02,\n",
       "       -8.0000000e-02, -7.0000000e-02, -6.0000000e-02, -5.0000000e-02,\n",
       "       -4.0000000e-02, -3.0000000e-02, -2.0000000e-02, -1.0000000e-02,\n",
       "       -1.0658141e-13,  1.0000000e-02,  2.0000000e-02,  3.0000000e-02,\n",
       "        4.0000000e-02,  5.0000000e-02,  6.0000000e-02,  7.0000000e-02,\n",
       "        8.0000000e-02,  9.0000000e-02,  1.0000000e-01,  1.1000000e-01,\n",
       "        1.2000000e-01,  1.3000000e-01,  1.4000000e-01,  1.5000000e-01,\n",
       "        1.6000000e-01,  1.7000000e-01,  1.8000000e-01,  1.9000000e-01,\n",
       "        2.0000000e-01,  2.1000000e-01,  2.2000000e-01,  2.3000000e-01,\n",
       "        2.4000000e-01,  2.5000000e-01,  2.6000000e-01,  2.7000000e-01,\n",
       "        2.8000000e-01,  2.9000000e-01,  3.0000000e-01,  3.1000000e-01,\n",
       "        3.2000000e-01,  3.3000000e-01,  3.4000000e-01,  3.5000000e-01,\n",
       "        3.6000000e-01,  3.7000000e-01,  3.8000000e-01,  3.9000000e-01,\n",
       "        4.0000000e-01,  4.1000000e-01,  4.2000000e-01,  4.3000000e-01,\n",
       "        4.4000000e-01,  4.5000000e-01,  4.6000000e-01,  4.7000000e-01,\n",
       "        4.8000000e-01,  4.9000000e-01,  5.0000000e-01,  5.1000000e-01,\n",
       "        5.2000000e-01,  5.3000000e-01,  5.4000000e-01,  5.5000000e-01,\n",
       "        5.6000000e-01,  5.7000000e-01,  5.8000000e-01,  5.9000000e-01,\n",
       "        6.0000000e-01,  6.1000000e-01,  6.2000000e-01,  6.3000000e-01,\n",
       "        6.4000000e-01,  6.5000000e-01,  6.6000000e-01,  6.7000000e-01,\n",
       "        6.8000000e-01,  6.9000000e-01,  7.0000000e-01,  7.1000000e-01,\n",
       "        7.2000000e-01,  7.3000000e-01,  7.4000000e-01,  7.5000000e-01,\n",
       "        7.6000000e-01,  7.7000000e-01,  7.8000000e-01,  7.9000000e-01,\n",
       "        8.0000000e-01,  8.1000000e-01,  8.2000000e-01,  8.3000000e-01,\n",
       "        8.4000000e-01,  8.5000000e-01,  8.6000000e-01,  8.7000000e-01,\n",
       "        8.8000000e-01,  8.9000000e-01,  9.0000000e-01,  9.1000000e-01,\n",
       "        9.2000000e-01,  9.3000000e-01,  9.4000000e-01,  9.5000000e-01,\n",
       "        9.6000000e-01,  9.7000000e-01,  9.8000000e-01,  9.9000000e-01,\n",
       "        1.0000000e+00,  1.0100000e+00,  1.0200000e+00,  1.0300000e+00,\n",
       "        1.0400000e+00,  1.0500000e+00,  1.0600000e+00,  1.0700000e+00,\n",
       "        1.0800000e+00,  1.0900000e+00,  1.1000000e+00,  1.1100000e+00,\n",
       "        1.1200000e+00,  1.1300000e+00,  1.1400000e+00,  1.1500000e+00,\n",
       "        1.1600000e+00,  1.1700000e+00,  1.1800000e+00,  1.1900000e+00,\n",
       "        1.2000000e+00,  1.2100000e+00,  1.2200000e+00,  1.2300000e+00,\n",
       "        1.2400000e+00,  1.2500000e+00,  1.2600000e+00,  1.2700000e+00,\n",
       "        1.2800000e+00,  1.2900000e+00,  1.3000000e+00,  1.3100000e+00,\n",
       "        1.3200000e+00,  1.3300000e+00,  1.3400000e+00,  1.3500000e+00,\n",
       "        1.3600000e+00,  1.3700000e+00,  1.3800000e+00,  1.3900000e+00,\n",
       "        1.4000000e+00,  1.4100000e+00,  1.4200000e+00,  1.4300000e+00,\n",
       "        1.4400000e+00,  1.4500000e+00,  1.4600000e+00,  1.4700000e+00,\n",
       "        1.4800000e+00,  1.4900000e+00,  1.5000000e+00,  1.5100000e+00,\n",
       "        1.5200000e+00,  1.5300000e+00,  1.5400000e+00,  1.5500000e+00,\n",
       "        1.5600000e+00,  1.5700000e+00,  1.5800000e+00,  1.5900000e+00,\n",
       "        1.6000000e+00,  1.6100000e+00,  1.6200000e+00,  1.6300000e+00,\n",
       "        1.6400000e+00,  1.6500000e+00,  1.6600000e+00,  1.6700000e+00,\n",
       "        1.6800000e+00,  1.6900000e+00,  1.7000000e+00,  1.7100000e+00,\n",
       "        1.7200000e+00,  1.7300000e+00,  1.7400000e+00,  1.7500000e+00,\n",
       "        1.7600000e+00,  1.7700000e+00,  1.7800000e+00,  1.7900000e+00,\n",
       "        1.8000000e+00,  1.8100000e+00,  1.8200000e+00,  1.8300000e+00,\n",
       "        1.8400000e+00,  1.8500000e+00,  1.8600000e+00,  1.8700000e+00,\n",
       "        1.8800000e+00,  1.8900000e+00,  1.9000000e+00,  1.9100000e+00,\n",
       "        1.9200000e+00,  1.9300000e+00,  1.9400000e+00,  1.9500000e+00,\n",
       "        1.9600000e+00,  1.9700000e+00,  1.9800000e+00,  1.9900000e+00,\n",
       "        2.0000000e+00,  2.0100000e+00,  2.0200000e+00,  2.0300000e+00,\n",
       "        2.0400000e+00,  2.0500000e+00,  2.0600000e+00,  2.0700000e+00,\n",
       "        2.0800000e+00,  2.0900000e+00,  2.1000000e+00,  2.1100000e+00,\n",
       "        2.1200000e+00,  2.1300000e+00,  2.1400000e+00,  2.1500000e+00,\n",
       "        2.1600000e+00,  2.1700000e+00,  2.1800000e+00,  2.1900000e+00,\n",
       "        2.2000000e+00,  2.2100000e+00,  2.2200000e+00,  2.2300000e+00,\n",
       "        2.2400000e+00,  2.2500000e+00,  2.2600000e+00,  2.2700000e+00,\n",
       "        2.2800000e+00,  2.2900000e+00,  2.3000000e+00,  2.3100000e+00,\n",
       "        2.3200000e+00,  2.3300000e+00,  2.3400000e+00,  2.3500000e+00,\n",
       "        2.3600000e+00,  2.3700000e+00,  2.3800000e+00,  2.3900000e+00,\n",
       "        2.4000000e+00,  2.4100000e+00,  2.4200000e+00,  2.4300000e+00,\n",
       "        2.4400000e+00,  2.4500000e+00,  2.4600000e+00,  2.4700000e+00,\n",
       "        2.4800000e+00,  2.4900000e+00,  2.5000000e+00,  2.5100000e+00,\n",
       "        2.5200000e+00,  2.5300000e+00,  2.5400000e+00,  2.5500000e+00,\n",
       "        2.5600000e+00,  2.5700000e+00,  2.5800000e+00,  2.5900000e+00,\n",
       "        2.6000000e+00,  2.6100000e+00,  2.6200000e+00,  2.6300000e+00,\n",
       "        2.6400000e+00,  2.6500000e+00,  2.6600000e+00,  2.6700000e+00,\n",
       "        2.6800000e+00,  2.6900000e+00,  2.7000000e+00,  2.7100000e+00,\n",
       "        2.7200000e+00,  2.7300000e+00,  2.7400000e+00,  2.7500000e+00,\n",
       "        2.7600000e+00,  2.7700000e+00,  2.7800000e+00,  2.7900000e+00,\n",
       "        2.8000000e+00,  2.8100000e+00,  2.8200000e+00,  2.8300000e+00,\n",
       "        2.8400000e+00,  2.8500000e+00,  2.8600000e+00,  2.8700000e+00,\n",
       "        2.8800000e+00,  2.8900000e+00,  2.9000000e+00,  2.9100000e+00,\n",
       "        2.9200000e+00,  2.9300000e+00,  2.9400000e+00,  2.9500000e+00,\n",
       "        2.9600000e+00,  2.9700000e+00,  2.9800000e+00,  2.9900000e+00,\n",
       "        3.0000000e+00,  3.0100000e+00,  3.0200000e+00,  3.0300000e+00,\n",
       "        3.0400000e+00,  3.0500000e+00,  3.0600000e+00,  3.0700000e+00,\n",
       "        3.0800000e+00,  3.0900000e+00,  3.1000000e+00,  3.1100000e+00,\n",
       "        3.1200000e+00,  3.1300000e+00,  3.1400000e+00,  3.1500000e+00,\n",
       "        3.1600000e+00,  3.1700000e+00,  3.1800000e+00,  3.1900000e+00,\n",
       "        3.2000000e+00,  3.2100000e+00,  3.2200000e+00,  3.2300000e+00,\n",
       "        3.2400000e+00,  3.2500000e+00,  3.2600000e+00,  3.2700000e+00,\n",
       "        3.2800000e+00,  3.2900000e+00,  3.3000000e+00,  3.3100000e+00,\n",
       "        3.3200000e+00,  3.3300000e+00,  3.3400000e+00,  3.3500000e+00,\n",
       "        3.3600000e+00,  3.3700000e+00,  3.3800000e+00,  3.3900000e+00,\n",
       "        3.4000000e+00,  3.4100000e+00,  3.4200000e+00,  3.4300000e+00,\n",
       "        3.4400000e+00,  3.4500000e+00,  3.4600000e+00,  3.4700000e+00,\n",
       "        3.4800000e+00,  3.4900000e+00,  3.5000000e+00,  3.5100000e+00,\n",
       "        3.5200000e+00,  3.5300000e+00,  3.5400000e+00,  3.5500000e+00,\n",
       "        3.5600000e+00,  3.5700000e+00,  3.5800000e+00,  3.5900000e+00,\n",
       "        3.6000000e+00,  3.6100000e+00,  3.6200000e+00,  3.6300000e+00,\n",
       "        3.6400000e+00,  3.6500000e+00,  3.6600000e+00,  3.6700000e+00,\n",
       "        3.6800000e+00,  3.6900000e+00,  3.7000000e+00,  3.7100000e+00,\n",
       "        3.7200000e+00,  3.7300000e+00,  3.7400000e+00,  3.7500000e+00,\n",
       "        3.7600000e+00,  3.7700000e+00,  3.7800000e+00,  3.7900000e+00,\n",
       "        3.8000000e+00,  3.8100000e+00,  3.8200000e+00,  3.8300000e+00,\n",
       "        3.8400000e+00,  3.8500000e+00,  3.8600000e+00,  3.8700000e+00,\n",
       "        3.8800000e+00,  3.8900000e+00,  3.9000000e+00,  3.9100000e+00,\n",
       "        3.9200000e+00,  3.9300000e+00,  3.9400000e+00,  3.9500000e+00,\n",
       "        3.9600000e+00,  3.9700000e+00,  3.9800000e+00,  3.9900000e+00,\n",
       "        4.0000000e+00,  4.0100000e+00,  4.0200000e+00,  4.0300000e+00,\n",
       "        4.0400000e+00,  4.0500000e+00,  4.0600000e+00,  4.0700000e+00,\n",
       "        4.0800000e+00,  4.0900000e+00,  4.1000000e+00,  4.1100000e+00,\n",
       "        4.1200000e+00,  4.1300000e+00,  4.1400000e+00,  4.1500000e+00,\n",
       "        4.1600000e+00,  4.1700000e+00,  4.1800000e+00,  4.1900000e+00,\n",
       "        4.2000000e+00,  4.2100000e+00,  4.2200000e+00,  4.2300000e+00,\n",
       "        4.2400000e+00,  4.2500000e+00,  4.2600000e+00,  4.2700000e+00,\n",
       "        4.2800000e+00,  4.2900000e+00,  4.3000000e+00,  4.3100000e+00,\n",
       "        4.3200000e+00,  4.3300000e+00,  4.3400000e+00,  4.3500000e+00,\n",
       "        4.3600000e+00,  4.3700000e+00,  4.3800000e+00,  4.3900000e+00,\n",
       "        4.4000000e+00,  4.4100000e+00,  4.4200000e+00,  4.4300000e+00,\n",
       "        4.4400000e+00,  4.4500000e+00,  4.4600000e+00,  4.4700000e+00,\n",
       "        4.4800000e+00,  4.4900000e+00,  4.5000000e+00,  4.5100000e+00,\n",
       "        4.5200000e+00,  4.5300000e+00,  4.5400000e+00,  4.5500000e+00,\n",
       "        4.5600000e+00,  4.5700000e+00,  4.5800000e+00,  4.5900000e+00,\n",
       "        4.6000000e+00,  4.6100000e+00,  4.6200000e+00,  4.6300000e+00,\n",
       "        4.6400000e+00,  4.6500000e+00,  4.6600000e+00,  4.6700000e+00,\n",
       "        4.6800000e+00,  4.6900000e+00,  4.7000000e+00,  4.7100000e+00,\n",
       "        4.7200000e+00,  4.7300000e+00,  4.7400000e+00,  4.7500000e+00,\n",
       "        4.7600000e+00,  4.7700000e+00,  4.7800000e+00,  4.7900000e+00,\n",
       "        4.8000000e+00,  4.8100000e+00,  4.8200000e+00,  4.8300000e+00,\n",
       "        4.8400000e+00,  4.8500000e+00,  4.8600000e+00,  4.8700000e+00,\n",
       "        4.8800000e+00,  4.8900000e+00,  4.9000000e+00,  4.9100000e+00,\n",
       "        4.9200000e+00,  4.9300000e+00,  4.9400000e+00,  4.9500000e+00,\n",
       "        4.9600000e+00,  4.9700000e+00,  4.9800000e+00,  4.9900000e+00])"
      ]
     },
     "execution_count": 34,
     "metadata": {},
     "output_type": "execute_result"
    }
   ],
   "source": [
    "points = np.arange(-5, 5, 0.01) \n",
    "points"
   ]
  },
  {
   "cell_type": "code",
   "execution_count": 31,
   "metadata": {},
   "outputs": [],
   "source": [
    "xs, ys = np.meshgrid(points, points)"
   ]
  },
  {
   "cell_type": "code",
   "execution_count": 32,
   "metadata": {},
   "outputs": [
    {
     "data": {
      "text/plain": [
       "array([[-5.  , -4.99, -4.98, ...,  4.97,  4.98,  4.99],\n",
       "       [-5.  , -4.99, -4.98, ...,  4.97,  4.98,  4.99],\n",
       "       [-5.  , -4.99, -4.98, ...,  4.97,  4.98,  4.99],\n",
       "       ...,\n",
       "       [-5.  , -4.99, -4.98, ...,  4.97,  4.98,  4.99],\n",
       "       [-5.  , -4.99, -4.98, ...,  4.97,  4.98,  4.99],\n",
       "       [-5.  , -4.99, -4.98, ...,  4.97,  4.98,  4.99]])"
      ]
     },
     "execution_count": 32,
     "metadata": {},
     "output_type": "execute_result"
    }
   ],
   "source": [
    "xs"
   ]
  },
  {
   "cell_type": "code",
   "execution_count": 33,
   "metadata": {},
   "outputs": [
    {
     "data": {
      "text/plain": [
       "array([[-5.  , -5.  , -5.  , ..., -5.  , -5.  , -5.  ],\n",
       "       [-4.99, -4.99, -4.99, ..., -4.99, -4.99, -4.99],\n",
       "       [-4.98, -4.98, -4.98, ..., -4.98, -4.98, -4.98],\n",
       "       ...,\n",
       "       [ 4.97,  4.97,  4.97, ...,  4.97,  4.97,  4.97],\n",
       "       [ 4.98,  4.98,  4.98, ...,  4.98,  4.98,  4.98],\n",
       "       [ 4.99,  4.99,  4.99, ...,  4.99,  4.99,  4.99]])"
      ]
     },
     "execution_count": 33,
     "metadata": {},
     "output_type": "execute_result"
    }
   ],
   "source": [
    "ys"
   ]
  },
  {
   "cell_type": "code",
   "execution_count": 35,
   "metadata": {},
   "outputs": [],
   "source": [
    "z = np.sqrt(xs ** 2 + ys ** 2)"
   ]
  },
  {
   "cell_type": "code",
   "execution_count": 36,
   "metadata": {},
   "outputs": [
    {
     "data": {
      "image/png": "[encoded data removed]",
      "text/plain": [
       "<Figure size 432x288 with 2 Axes>"
      ]
     },
     "metadata": {
      "needs_background": "light"
     },
     "output_type": "display_data"
    }
   ],
   "source": [
    "import matplotlib.pyplot as plt\n",
    "plt.imshow(z, cmap=plt.cm.gray); plt.colorbar()\n",
    "plt.title(\"Image plot of $\\sqrt{x^2 + y^2}$ for a grid of values\")\n",
    "plt.show()"
   ]
  },
  {
   "cell_type": "code",
   "execution_count": 42,
   "metadata": {},
   "outputs": [
    {
     "data": {
      "text/plain": [
       "'Charles'"
      ]
     },
     "execution_count": 42,
     "metadata": {},
     "output_type": "execute_result"
    }
   ],
   "source": [
    "a = (\"John\", \"Charles\", \"Mike\")\n",
    "b = (\"Jenny\", \"Christy\", \"Monica\", \"Vicky\")\n",
    "\n",
    "x = zip(a, b)\n",
    "\n",
    "x = list(x)\n",
    "x[1][0]"
   ]
  },
  {
   "cell_type": "markdown",
   "metadata": {},
   "source": [
    "### Expressing Conditional Logic as Array Operations\n",
    "The  numpy.where  function is a vectorized version of the ternary expression  x if con\n",
    "dition else y"
   ]
  },
  {
   "cell_type": "code",
   "execution_count": 43,
   "metadata": {},
   "outputs": [
    {
     "data": {
      "text/plain": [
       "array([1.1, 2.2, 1.3, 1.4, 2.5])"
      ]
     },
     "execution_count": 43,
     "metadata": {},
     "output_type": "execute_result"
    }
   ],
   "source": [
    "xarr = np.array([1.1, 1.2, 1.3, 1.4, 1.5])\n",
    "yarr = np.array([2.1, 2.2, 2.3, 2.4, 2.5])\n",
    "cond = np.array([True, False, True, True, False])\n",
    "\n",
    "#cond, if True = xarr, else yarr\n",
    "result = np.where(cond, xarr, yarr)\n",
    "result"
   ]
  },
  {
   "cell_type": "code",
   "execution_count": 45,
   "metadata": {},
   "outputs": [],
   "source": [
    "arr = np.random.randn(4, 4)\n"
   ]
  },
  {
   "cell_type": "code",
   "execution_count": 46,
   "metadata": {},
   "outputs": [
    {
     "data": {
      "text/plain": [
       "array([[-2,  2,  2,  2],\n",
       "       [-2, -2, -2,  2],\n",
       "       [ 2,  2,  2, -2],\n",
       "       [-2, -2,  2, -2]])"
      ]
     },
     "execution_count": 46,
     "metadata": {},
     "output_type": "execute_result"
    }
   ],
   "source": [
    "np.where(arr > 0, 2, -2)"
   ]
  },
  {
   "cell_type": "markdown",
   "metadata": {},
   "source": [
    "You can combine scalars and arrays when using  np.where . For example, I can replace\n",
    "all positive values in  arr  with the constant 2 like so:\n"
   ]
  },
  {
   "cell_type": "code",
   "execution_count": 47,
   "metadata": {},
   "outputs": [
    {
     "data": {
      "text/plain": [
       "array([[-2.36558018,  2.        ,  2.        ,  2.        ],\n",
       "       [-0.2636899 , -0.33250709, -0.55173538,  2.        ],\n",
       "       [ 2.        ,  2.        ,  2.        , -0.17045915],\n",
       "       [-0.9712    , -0.50318563,  2.        , -0.07533377]])"
      ]
     },
     "execution_count": 47,
     "metadata": {},
     "output_type": "execute_result"
    }
   ],
   "source": [
    "np.where(arr > 0, 2, arr)"
   ]
  },
  {
   "cell_type": "markdown",
   "metadata": {},
   "source": [
    "### Mathematical and Statistical Methods\n",
    " compute statistics about an entire array or about\n",
    "the data along an axis are accessible as methods of the array class\n",
    "\n",
    "aggregations (often called reductions) like  sum ,  mean , and  std  (standard deviation)"
   ]
  },
  {
   "cell_type": "code",
   "execution_count": 48,
   "metadata": {},
   "outputs": [
    {
     "data": {
      "text/plain": [
       "-0.3020472063596356"
      ]
     },
     "execution_count": 48,
     "metadata": {},
     "output_type": "execute_result"
    }
   ],
   "source": [
    "arr = np.random.randn(5, 4)\n",
    "arr.mean()"
   ]
  },
  {
   "cell_type": "code",
   "execution_count": 49,
   "metadata": {},
   "outputs": [
    {
     "data": {
      "text/plain": [
       "-0.3020472063596356"
      ]
     },
     "execution_count": 49,
     "metadata": {},
     "output_type": "execute_result"
    }
   ],
   "source": [
    "np.mean(arr)"
   ]
  },
  {
   "cell_type": "code",
   "execution_count": 50,
   "metadata": {},
   "outputs": [
    {
     "data": {
      "text/plain": [
       "-6.040944127192712"
      ]
     },
     "execution_count": 50,
     "metadata": {},
     "output_type": "execute_result"
    }
   ],
   "source": [
    "arr.sum()"
   ]
  },
  {
   "cell_type": "code",
   "execution_count": 52,
   "metadata": {},
   "outputs": [
    {
     "data": {
      "text/plain": [
       "array([-0.02388758,  0.27824791, -0.33901524, -0.29570183, -1.12987929])"
      ]
     },
     "execution_count": 52,
     "metadata": {},
     "output_type": "execute_result"
    }
   ],
   "source": [
    "# Functions like  mean  and  sum  take an optional  axis  argument \n",
    "arr.mean(axis=1)\n",
    "arr.mean(1)"
   ]
  },
  {
   "cell_type": "markdown",
   "metadata": {},
   "source": [
    "Here,  arr.mean(1)   means  “compute  mean  across  the  columns”  where  arr.sum(0)\n",
    "means “compute sum down the rows.”"
   ]
  },
  {
   "cell_type": "code",
   "execution_count": 53,
   "metadata": {},
   "outputs": [
    {
     "data": {
      "text/plain": [
       "array([[0, 1, 2],\n",
       "       [3, 4, 5],\n",
       "       [6, 7, 8]])"
      ]
     },
     "execution_count": 53,
     "metadata": {},
     "output_type": "execute_result"
    }
   ],
   "source": [
    "# functions  like  cumsum   return  an  array  of the  same  size\n",
    "arr = np.array([[0, 1, 2], [3, 4, 5], [6, 7, 8]])\n",
    "arr"
   ]
  },
  {
   "cell_type": "code",
   "execution_count": 54,
   "metadata": {},
   "outputs": [
    {
     "data": {
      "text/plain": [
       "array([[ 0,  1,  2],\n",
       "       [ 3,  5,  7],\n",
       "       [ 9, 12, 15]], dtype=int32)"
      ]
     },
     "execution_count": 54,
     "metadata": {},
     "output_type": "execute_result"
    }
   ],
   "source": [
    "arr.cumsum(0)"
   ]
  },
  {
   "cell_type": "code",
   "execution_count": 55,
   "metadata": {},
   "outputs": [
    {
     "data": {
      "text/plain": [
       "array([[  0,   0,   0],\n",
       "       [  3,  12,  60],\n",
       "       [  6,  42, 336]], dtype=int32)"
      ]
     },
     "execution_count": 55,
     "metadata": {},
     "output_type": "execute_result"
    }
   ],
   "source": [
    "arr.cumprod(axis=1)"
   ]
  },
  {
   "cell_type": "markdown",
   "metadata": {},
   "source": [
    "### Methods for Boolean Arrays\n",
    "\n",
    "There are two additional methods,  any  and  all , useful especially for boolean arrays.\n",
    "any  tests whether one or more values in an array is  True , while  all  checks if every\n",
    "value is  True :"
   ]
  },
  {
   "cell_type": "code",
   "execution_count": 56,
   "metadata": {},
   "outputs": [
    {
     "data": {
      "text/plain": [
       "True"
      ]
     },
     "execution_count": 56,
     "metadata": {},
     "output_type": "execute_result"
    }
   ],
   "source": [
    "bools = np.array([False, False, True, False])\n",
    "bools.any()"
   ]
  },
  {
   "cell_type": "code",
   "execution_count": 57,
   "metadata": {},
   "outputs": [
    {
     "data": {
      "text/plain": [
       "False"
      ]
     },
     "execution_count": 57,
     "metadata": {},
     "output_type": "execute_result"
    }
   ],
   "source": [
    "bools.all()"
   ]
  },
  {
   "cell_type": "markdown",
   "metadata": {},
   "source": [
    "### Sorting"
   ]
  },
  {
   "cell_type": "code",
   "execution_count": 58,
   "metadata": {},
   "outputs": [
    {
     "data": {
      "text/plain": [
       "array([ 0.38656013, -1.02385433, -0.04742752, -1.78000392,  0.46126399,\n",
       "       -1.69272343])"
      ]
     },
     "execution_count": 58,
     "metadata": {},
     "output_type": "execute_result"
    }
   ],
   "source": [
    "arr = np.random.randn(6)\n",
    "arr"
   ]
  },
  {
   "cell_type": "code",
   "execution_count": 60,
   "metadata": {},
   "outputs": [
    {
     "data": {
      "text/plain": [
       "array([-1.78000392, -1.69272343, -1.02385433, -0.04742752,  0.38656013,\n",
       "        0.46126399])"
      ]
     },
     "execution_count": 60,
     "metadata": {},
     "output_type": "execute_result"
    }
   ],
   "source": [
    "arr.sort()\n",
    "arr"
   ]
  },
  {
   "cell_type": "code",
   "execution_count": 62,
   "metadata": {},
   "outputs": [
    {
     "data": {
      "text/plain": [
       "array([[ 0.64901036,  0.78308161, -1.33141219],\n",
       "       [ 0.01748982, -0.37151718,  0.02441383],\n",
       "       [-0.00955528, -1.46301923,  1.22010343],\n",
       "       [-0.0230665 , -0.55253654, -1.63816969],\n",
       "       [ 0.64539897,  0.04061726,  0.22316276]])"
      ]
     },
     "execution_count": 62,
     "metadata": {},
     "output_type": "execute_result"
    }
   ],
   "source": [
    "arr = np.random.randn(5, 3)\n",
    "arr"
   ]
  },
  {
   "cell_type": "code",
   "execution_count": 64,
   "metadata": {},
   "outputs": [
    {
     "data": {
      "text/plain": [
       "array([[-1.33141219,  0.64901036,  0.78308161],\n",
       "       [-0.37151718,  0.01748982,  0.02441383],\n",
       "       [-1.46301923, -0.00955528,  1.22010343],\n",
       "       [-1.63816969, -0.55253654, -0.0230665 ],\n",
       "       [ 0.04061726,  0.22316276,  0.64539897]])"
      ]
     },
     "execution_count": 64,
     "metadata": {},
     "output_type": "execute_result"
    }
   ],
   "source": [
    "arr.sort(1)\n",
    "arr"
   ]
  },
  {
   "cell_type": "code",
   "execution_count": 65,
   "metadata": {},
   "outputs": [
    {
     "data": {
      "text/plain": [
       "array([[-1.63816969, -0.55253654, -0.0230665 ],\n",
       "       [-1.46301923, -0.00955528,  0.02441383],\n",
       "       [-1.33141219,  0.01748982,  0.64539897],\n",
       "       [-0.37151718,  0.22316276,  0.78308161],\n",
       "       [ 0.04061726,  0.64901036,  1.22010343]])"
      ]
     },
     "execution_count": 65,
     "metadata": {},
     "output_type": "execute_result"
    }
   ],
   "source": [
    "arr.sort(0)\n",
    "arr"
   ]
  },
  {
   "cell_type": "markdown",
   "metadata": {},
   "source": [
    "### Unique and Other Set Logic\n",
    "\n",
    "NumPy has some basic set operations for one-dimensional ndarrays."
   ]
  },
  {
   "cell_type": "code",
   "execution_count": 66,
   "metadata": {},
   "outputs": [],
   "source": [
    "names = np.array(['Bob', 'Joe', 'Will', 'Bob', 'Will', 'Joe', 'Joe'])"
   ]
  },
  {
   "cell_type": "code",
   "execution_count": 67,
   "metadata": {},
   "outputs": [
    {
     "data": {
      "text/plain": [
       "array(['Bob', 'Joe', 'Will'], dtype='<U4')"
      ]
     },
     "execution_count": 67,
     "metadata": {},
     "output_type": "execute_result"
    }
   ],
   "source": [
    "np.unique(names)"
   ]
  },
  {
   "cell_type": "code",
   "execution_count": 68,
   "metadata": {},
   "outputs": [
    {
     "data": {
      "text/plain": [
       "['Bob', 'Joe', 'Will']"
      ]
     },
     "execution_count": 68,
     "metadata": {},
     "output_type": "execute_result"
    }
   ],
   "source": [
    "# Contrast  np.unique  with the pure Python alternative:\n",
    "sorted(set(names))"
   ]
  },
  {
   "cell_type": "markdown",
   "metadata": {},
   "source": [
    "### 4.5 Linear Algebra"
   ]
  },
  {
   "cell_type": "code",
   "execution_count": 69,
   "metadata": {},
   "outputs": [
    {
     "data": {
      "text/plain": [
       "array([[ 28.,  64.],\n",
       "       [ 67., 181.]])"
      ]
     },
     "execution_count": 69,
     "metadata": {},
     "output_type": "execute_result"
    }
   ],
   "source": [
    "x = np.array([[1., 2., 3.], [4., 5., 6.]])\n",
    "    \n",
    "y = np.array([[6., 23.], [-1, 7], [8, 9]])\n",
    "\n",
    "x.dot(y)"
   ]
  },
  {
   "cell_type": "code",
   "execution_count": 70,
   "metadata": {},
   "outputs": [
    {
     "data": {
      "text/plain": [
       "array([[ 28.,  64.],\n",
       "       [ 67., 181.]])"
      ]
     },
     "execution_count": 70,
     "metadata": {},
     "output_type": "execute_result"
    }
   ],
   "source": [
    "np.dot(x, y)"
   ]
  },
  {
   "cell_type": "markdown",
   "metadata": {},
   "source": [
    "### 4.7 Example: Random Walks"
   ]
  },
  {
   "cell_type": "code",
   "execution_count": 83,
   "metadata": {},
   "outputs": [],
   "source": [
    "import random\n",
    "import matplotlib.pyplot as plt\n",
    "\n",
    "position = 0\n",
    "walk = [position]\n",
    "steps = 1000"
   ]
  },
  {
   "cell_type": "code",
   "execution_count": 84,
   "metadata": {},
   "outputs": [
    {
     "data": {
      "text/plain": [
       "[<matplotlib.lines.Line2D at 0x22915bb8880>]"
      ]
     },
     "execution_count": 84,
     "metadata": {},
     "output_type": "execute_result"
    },
    {
     "data": {
      "image/png": "[encoded data removed]",
      "text/plain": [
       "<Figure size 432x288 with 1 Axes>"
      ]
     },
     "metadata": {
      "needs_background": "light"
     },
     "output_type": "display_data"
    }
   ],
   "source": [
    "for i in range(steps):\n",
    "    step = 1 if random.randint(0,1) else -1\n",
    "    position += step\n",
    "    walk.append(position)\n",
    "\n",
    "plt.plot(walk)"
   ]
  },
  {
   "cell_type": "code",
   "execution_count": 82,
   "metadata": {},
   "outputs": [
    {
     "data": {
      "text/plain": [
       "[0, 1, 0, -1, 0, -1, 0, -1, 0, -1, 0, -1, 0, -1, -2, -3, -2, -3, -2, -1, -2]"
      ]
     },
     "execution_count": 82,
     "metadata": {},
     "output_type": "execute_result"
    }
   ],
   "source": [
    "walk"
   ]
  },
  {
   "cell_type": "code",
   "execution_count": null,
   "metadata": {},
   "outputs": [],
   "source": []
  }
 ],
 "metadata": {
  "kernelspec": {
   "display_name": "Python 3",
   "language": "python",
   "name": "python3"
  },
  "language_info": {
   "codemirror_mode": {
    "name": "ipython",
    "version": 3
   },
   "file_extension": ".py",
   "mimetype": "text/x-python",
   "name": "python",
   "nbconvert_exporter": "python",
   "pygments_lexer": "ipython3",
   "version": "3.8.5"
  }
 },
 "nbformat": 4,
 "nbformat_minor": 4
}
